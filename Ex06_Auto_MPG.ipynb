{
  "cells": [
    {
      "cell_type": "markdown",
      "metadata": {
        "id": "view-in-github",
        "colab_type": "text"
      },
      "source": [
        "<a href=\"https://colab.research.google.com/github/Huong1703/BT-Python/blob/main/Ex06_Auto_MPG.ipynb\" target=\"_parent\"><img src=\"https://colab.research.google.com/assets/colab-badge.svg\" alt=\"Open In Colab\"/></a>"
      ]
    },
    {
      "cell_type": "markdown",
      "metadata": {
        "pycharm": {
          "name": "#%% md\n"
        },
        "id": "UxQ1Vz8lURfs"
      },
      "source": [
        "# MPG Cars"
      ]
    },
    {
      "cell_type": "markdown",
      "metadata": {
        "pycharm": {
          "name": "#%% md\n"
        },
        "id": "q_hYb7l_URfv"
      },
      "source": [
        "### Introduction:\n",
        "\n",
        "The following exercise utilizes data from [UC Irvine Machine Learning Repository](https://archive.ics.uci.edu/ml/datasets/Auto+MPG)\n",
        "\n",
        "### Step 1. Import the necessary libraries"
      ]
    },
    {
      "cell_type": "code",
      "execution_count": 17,
      "metadata": {
        "pycharm": {
          "name": "#%%\n"
        },
        "id": "EsbIH03tURfw"
      },
      "outputs": [],
      "source": [
        "import pandas as pd\n",
        "import requests\n",
        "import numpy as np\n"
      ]
    },
    {
      "cell_type": "markdown",
      "metadata": {
        "pycharm": {
          "name": "#%% md\n"
        },
        "id": "dRTu7RIWURfw"
      },
      "source": [
        "### Step 2. Import the first dataset [cars1](https://raw.githubusercontent.com/thieu1995/csv-files/main/data/pandas/cars1.csv) and [cars2](https://raw.githubusercontent.com/thieu1995/csv-files/main/data/pandas/cars2.csv)."
      ]
    },
    {
      "cell_type": "code",
      "execution_count": 5,
      "outputs": [],
      "source": [
        "response = requests.get('https://raw.githubusercontent.com/thieu1995/csv-files/main/data/pandas/cars1.csv')\n",
        "data1 = response.text\n",
        "response = requests.get('https://raw.githubusercontent.com/thieu1995/csv-files/main/data/pandas/cars2.csv')\n",
        "data2 = response.text"
      ],
      "metadata": {
        "pycharm": {
          "name": "#%%\n"
        },
        "id": "QTS1OEXIURfx"
      }
    },
    {
      "cell_type": "markdown",
      "metadata": {
        "pycharm": {
          "name": "#%% md\n"
        },
        "id": "4V1SpRV2URfx"
      },
      "source": [
        "   ### Step 3. Assign each to a variable called cars1 and cars2"
      ]
    },
    {
      "cell_type": "code",
      "execution_count": 7,
      "metadata": {
        "pycharm": {
          "name": "#%%\n"
        },
        "id": "22XT9go0URfx",
        "colab": {
          "base_uri": "https://localhost:8080/"
        },
        "outputId": "de138ceb-b8fb-4b62-c89d-f11b7981f47c"
      },
      "outputs": [
        {
          "output_type": "stream",
          "name": "stdout",
          "text": [
            "      mpg  cylinders  displacement horsepower  weight  acceleration  model  \\\n",
            "0    18.0          8           307        130    3504          12.0     70   \n",
            "1    15.0          8           350        165    3693          11.5     70   \n",
            "2    18.0          8           318        150    3436          11.0     70   \n",
            "3    16.0          8           304        150    3433          12.0     70   \n",
            "4    17.0          8           302        140    3449          10.5     70   \n",
            "..    ...        ...           ...        ...     ...           ...    ...   \n",
            "193  24.0          6           200         81    3012          17.6     76   \n",
            "194  22.5          6           232         90    3085          17.6     76   \n",
            "195  29.0          4            85         52    2035          22.2     76   \n",
            "196  24.5          4            98         60    2164          22.1     76   \n",
            "197  29.0          4            90         70    1937          14.2     76   \n",
            "\n",
            "     origin                        car  Unnamed: 9  Unnamed: 10  Unnamed: 11  \\\n",
            "0         1  chevrolet chevelle malibu         NaN          NaN          NaN   \n",
            "1         1          buick skylark 320         NaN          NaN          NaN   \n",
            "2         1         plymouth satellite         NaN          NaN          NaN   \n",
            "3         1              amc rebel sst         NaN          NaN          NaN   \n",
            "4         1                ford torino         NaN          NaN          NaN   \n",
            "..      ...                        ...         ...          ...          ...   \n",
            "193       1              ford maverick         NaN          NaN          NaN   \n",
            "194       1                 amc hornet         NaN          NaN          NaN   \n",
            "195       1         chevrolet chevette         NaN          NaN          NaN   \n",
            "196       1            chevrolet woody         NaN          NaN          NaN   \n",
            "197       2                  vw rabbit         NaN          NaN          NaN   \n",
            "\n",
            "     Unnamed: 12  Unnamed: 13  \n",
            "0            NaN          NaN  \n",
            "1            NaN          NaN  \n",
            "2            NaN          NaN  \n",
            "3            NaN          NaN  \n",
            "4            NaN          NaN  \n",
            "..           ...          ...  \n",
            "193          NaN          NaN  \n",
            "194          NaN          NaN  \n",
            "195          NaN          NaN  \n",
            "196          NaN          NaN  \n",
            "197          NaN          NaN  \n",
            "\n",
            "[198 rows x 14 columns]\n",
            "      mpg  cylinders  displacement horsepower  weight  acceleration  model  \\\n",
            "0    33.0          4            91         53    1795          17.4     76   \n",
            "1    20.0          6           225        100    3651          17.7     76   \n",
            "2    18.0          6           250         78    3574          21.0     76   \n",
            "3    18.5          6           250        110    3645          16.2     76   \n",
            "4    17.5          6           258         95    3193          17.8     76   \n",
            "..    ...        ...           ...        ...     ...           ...    ...   \n",
            "195  27.0          4           140         86    2790          15.6     82   \n",
            "196  44.0          4            97         52    2130          24.6     82   \n",
            "197  32.0          4           135         84    2295          11.6     82   \n",
            "198  28.0          4           120         79    2625          18.6     82   \n",
            "199  31.0          4           119         82    2720          19.4     82   \n",
            "\n",
            "     origin                 car  \n",
            "0         3         honda civic  \n",
            "1         1      dodge aspen se  \n",
            "2         1   ford granada ghia  \n",
            "3         1  pontiac ventura sj  \n",
            "4         1       amc pacer d/l  \n",
            "..      ...                 ...  \n",
            "195       1     ford mustang gl  \n",
            "196       2           vw pickup  \n",
            "197       1       dodge rampage  \n",
            "198       1         ford ranger  \n",
            "199       1          chevy s-10  \n",
            "\n",
            "[200 rows x 9 columns]\n"
          ]
        }
      ],
      "source": [
        "cars1 = pd.read_csv('https://raw.githubusercontent.com/thieu1995/csv-files/main/data/pandas/cars1.csv', sep=',')\n",
        "cars2 = pd.read_csv('https://raw.githubusercontent.com/thieu1995/csv-files/main/data/pandas/cars2.csv', sep=',')\n",
        "print(cars1)\n",
        "print(cars2)"
      ]
    },
    {
      "cell_type": "markdown",
      "metadata": {
        "pycharm": {
          "name": "#%% md\n"
        },
        "id": "TTo1gRphURfx"
      },
      "source": [
        "### Step 4. Oops, it seems our first dataset has some unnamed blank columns, fix cars1"
      ]
    },
    {
      "cell_type": "code",
      "execution_count": 10,
      "metadata": {
        "pycharm": {
          "name": "#%%\n"
        },
        "id": "Bi2sQ0KcURfx",
        "colab": {
          "base_uri": "https://localhost:8080/"
        },
        "outputId": "c250e4a1-e5bf-4758-c787-fd0b706cca61"
      },
      "outputs": [
        {
          "output_type": "stream",
          "name": "stdout",
          "text": [
            "      mpg  cylinders  displacement horsepower  weight  acceleration  model  \\\n",
            "0    18.0          8           307        130    3504          12.0     70   \n",
            "1    15.0          8           350        165    3693          11.5     70   \n",
            "2    18.0          8           318        150    3436          11.0     70   \n",
            "3    16.0          8           304        150    3433          12.0     70   \n",
            "4    17.0          8           302        140    3449          10.5     70   \n",
            "..    ...        ...           ...        ...     ...           ...    ...   \n",
            "193  24.0          6           200         81    3012          17.6     76   \n",
            "194  22.5          6           232         90    3085          17.6     76   \n",
            "195  29.0          4            85         52    2035          22.2     76   \n",
            "196  24.5          4            98         60    2164          22.1     76   \n",
            "197  29.0          4            90         70    1937          14.2     76   \n",
            "\n",
            "     origin                        car  \n",
            "0         1  chevrolet chevelle malibu  \n",
            "1         1          buick skylark 320  \n",
            "2         1         plymouth satellite  \n",
            "3         1              amc rebel sst  \n",
            "4         1                ford torino  \n",
            "..      ...                        ...  \n",
            "193       1              ford maverick  \n",
            "194       1                 amc hornet  \n",
            "195       1         chevrolet chevette  \n",
            "196       1            chevrolet woody  \n",
            "197       2                  vw rabbit  \n",
            "\n",
            "[198 rows x 9 columns]\n"
          ]
        }
      ],
      "source": [
        "cars1 = cars1.loc[:, ~cars1.columns.str.contains('^Unnamed')]\n",
        "print(cars1)"
      ]
    },
    {
      "cell_type": "markdown",
      "metadata": {
        "pycharm": {
          "name": "#%% md\n"
        },
        "id": "1_UeznJaURfy"
      },
      "source": [
        "### Step 5. What is the number of observations in each dataset?"
      ]
    },
    {
      "cell_type": "code",
      "execution_count": 12,
      "metadata": {
        "pycharm": {
          "name": "#%%\n"
        },
        "id": "xZf5NpH8URfy",
        "colab": {
          "base_uri": "https://localhost:8080/"
        },
        "outputId": "8710da0b-a23f-4cc4-dcf0-5de2feaa2397"
      },
      "outputs": [
        {
          "output_type": "stream",
          "name": "stdout",
          "text": [
            "Number of observations in cars1: 198\n",
            "Number of observations in cars2: 200\n"
          ]
        }
      ],
      "source": [
        "observations_cars1 = cars1.shape[0]\n",
        "observations_cars2 = cars2.shape[0]\n",
        "\n",
        "print(\"Number of observations in cars1:\", observations_cars1)\n",
        "print(\"Number of observations in cars2:\", observations_cars2)"
      ]
    },
    {
      "cell_type": "markdown",
      "metadata": {
        "pycharm": {
          "name": "#%% md\n"
        },
        "id": "CKjecXjIURfy"
      },
      "source": [
        "### Step 6. Join cars1 and cars2 into a single DataFrame called cars"
      ]
    },
    {
      "cell_type": "code",
      "execution_count": 15,
      "metadata": {
        "pycharm": {
          "name": "#%%\n"
        },
        "id": "QN5hxlBFURfy",
        "colab": {
          "base_uri": "https://localhost:8080/"
        },
        "outputId": "896c2c6d-2f1c-473e-c6c8-14d0f8119cd9"
      },
      "outputs": [
        {
          "output_type": "stream",
          "name": "stdout",
          "text": [
            "Merged DataFrame (cars):\n",
            "      mpg  cylinders  displacement horsepower  weight  acceleration  model  \\\n",
            "0    18.0          8           307        130    3504          12.0     70   \n",
            "1    15.0          8           350        165    3693          11.5     70   \n",
            "2    18.0          8           318        150    3436          11.0     70   \n",
            "3    16.0          8           304        150    3433          12.0     70   \n",
            "4    17.0          8           302        140    3449          10.5     70   \n",
            "..    ...        ...           ...        ...     ...           ...    ...   \n",
            "393  27.0          4           140         86    2790          15.6     82   \n",
            "394  44.0          4            97         52    2130          24.6     82   \n",
            "395  32.0          4           135         84    2295          11.6     82   \n",
            "396  28.0          4           120         79    2625          18.6     82   \n",
            "397  31.0          4           119         82    2720          19.4     82   \n",
            "\n",
            "     origin                        car  \n",
            "0         1  chevrolet chevelle malibu  \n",
            "1         1          buick skylark 320  \n",
            "2         1         plymouth satellite  \n",
            "3         1              amc rebel sst  \n",
            "4         1                ford torino  \n",
            "..      ...                        ...  \n",
            "393       1            ford mustang gl  \n",
            "394       2                  vw pickup  \n",
            "395       1              dodge rampage  \n",
            "396       1                ford ranger  \n",
            "397       1                 chevy s-10  \n",
            "\n",
            "[398 rows x 9 columns]\n"
          ]
        }
      ],
      "source": [
        "cars = pd.concat([cars1, cars2], ignore_index=True)\n",
        "\n",
        "print(\"Merged DataFrame (cars):\")\n",
        "print(cars)"
      ]
    },
    {
      "cell_type": "markdown",
      "metadata": {
        "pycharm": {
          "name": "#%% md\n"
        },
        "id": "KgNITcAtURfz"
      },
      "source": [
        "### Step 7. Oops, there is a column missing, called owners. Create a random number Series from 15,000 to 73,000."
      ]
    },
    {
      "cell_type": "code",
      "execution_count": 22,
      "metadata": {
        "pycharm": {
          "name": "#%%\n"
        },
        "id": "APLwqmKCURfz",
        "colab": {
          "base_uri": "https://localhost:8080/"
        },
        "outputId": "8c81073f-f565-4736-bf15-bfdaf1398a43"
      },
      "outputs": [
        {
          "output_type": "stream",
          "name": "stdout",
          "text": [
            "Create a random number Series from 15,000 to 73,000:\n",
            "      mpg  cylinders  displacement horsepower  weight  acceleration  model  \\\n",
            "0    18.0          8           307        130    3504          12.0     70   \n",
            "1    15.0          8           350        165    3693          11.5     70   \n",
            "2    18.0          8           318        150    3436          11.0     70   \n",
            "3    16.0          8           304        150    3433          12.0     70   \n",
            "4    17.0          8           302        140    3449          10.5     70   \n",
            "..    ...        ...           ...        ...     ...           ...    ...   \n",
            "393  27.0          4           140         86    2790          15.6     82   \n",
            "394  44.0          4            97         52    2130          24.6     82   \n",
            "395  32.0          4           135         84    2295          11.6     82   \n",
            "396  28.0          4           120         79    2625          18.6     82   \n",
            "397  31.0          4           119         82    2720          19.4     82   \n",
            "\n",
            "     origin                        car  owners  \n",
            "0         1  chevrolet chevelle malibu   61031  \n",
            "1         1          buick skylark 320   56156  \n",
            "2         1         plymouth satellite   42226  \n",
            "3         1              amc rebel sst   72005  \n",
            "4         1                ford torino   46842  \n",
            "..      ...                        ...     ...  \n",
            "393       1            ford mustang gl   67141  \n",
            "394       2                  vw pickup   40516  \n",
            "395       1              dodge rampage   60152  \n",
            "396       1                ford ranger   58730  \n",
            "397       1                 chevy s-10   15787  \n",
            "\n",
            "[398 rows x 10 columns]\n"
          ]
        }
      ],
      "source": [
        "random_owners = np.random.randint(15000, 73001, size=cars.shape[0])\n",
        "cars['owners'] = random_owners\n",
        "\n",
        "print(\"Create a random number Series from 15,000 to 73,000:\")\n",
        "print(cars)"
      ]
    },
    {
      "cell_type": "markdown",
      "metadata": {
        "pycharm": {
          "name": "#%% md\n"
        },
        "id": "vLxTr1zhURfz"
      },
      "source": [
        "### Step 8. Add the column owners to cars"
      ]
    },
    {
      "cell_type": "code",
      "execution_count": 21,
      "metadata": {
        "pycharm": {
          "name": "#%%\n"
        },
        "id": "pQKFd92CURfz",
        "colab": {
          "base_uri": "https://localhost:8080/"
        },
        "outputId": "edbab186-2840-450d-c7e7-70a9a86ac138"
      },
      "outputs": [
        {
          "output_type": "stream",
          "name": "stdout",
          "text": [
            "Add the column owners to cars:\n",
            "      mpg  cylinders  displacement horsepower  weight  acceleration  model  \\\n",
            "0    18.0          8           307        130    3504          12.0     70   \n",
            "1    15.0          8           350        165    3693          11.5     70   \n",
            "2    18.0          8           318        150    3436          11.0     70   \n",
            "3    16.0          8           304        150    3433          12.0     70   \n",
            "4    17.0          8           302        140    3449          10.5     70   \n",
            "..    ...        ...           ...        ...     ...           ...    ...   \n",
            "393  27.0          4           140         86    2790          15.6     82   \n",
            "394  44.0          4            97         52    2130          24.6     82   \n",
            "395  32.0          4           135         84    2295          11.6     82   \n",
            "396  28.0          4           120         79    2625          18.6     82   \n",
            "397  31.0          4           119         82    2720          19.4     82   \n",
            "\n",
            "     origin                        car  owners  \n",
            "0         1  chevrolet chevelle malibu   32986  \n",
            "1         1          buick skylark 320   35892  \n",
            "2         1         plymouth satellite   64370  \n",
            "3         1              amc rebel sst   60459  \n",
            "4         1                ford torino   58075  \n",
            "..      ...                        ...     ...  \n",
            "393       1            ford mustang gl   43941  \n",
            "394       2                  vw pickup   46854  \n",
            "395       1              dodge rampage   18399  \n",
            "396       1                ford ranger   39943  \n",
            "397       1                 chevy s-10   27560  \n",
            "\n",
            "[398 rows x 10 columns]\n"
          ]
        }
      ],
      "source": [
        "cars['owners'] = random_owners\n",
        "\n",
        "print(\"Add the column owners to cars:\")\n",
        "print(cars)"
      ]
    }
  ],
  "metadata": {
    "anaconda-cloud": {},
    "kernelspec": {
      "display_name": "Python [default]",
      "language": "python",
      "name": "python2"
    },
    "language_info": {
      "codemirror_mode": {
        "name": "ipython",
        "version": 2
      },
      "file_extension": ".py",
      "mimetype": "text/x-python",
      "name": "python",
      "nbconvert_exporter": "python",
      "pygments_lexer": "ipython2",
      "version": "2.7.12"
    },
    "colab": {
      "provenance": [],
      "include_colab_link": true
    }
  },
  "nbformat": 4,
  "nbformat_minor": 0
}