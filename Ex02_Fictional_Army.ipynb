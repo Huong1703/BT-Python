{
  "cells": [
    {
      "cell_type": "markdown",
      "metadata": {
        "id": "view-in-github",
        "colab_type": "text"
      },
      "source": [
        "<a href=\"https://colab.research.google.com/github/Huong1703/BT-Python/blob/main/Ex02_Fictional_Army.ipynb\" target=\"_parent\"><img src=\"https://colab.research.google.com/assets/colab-badge.svg\" alt=\"Open In Colab\"/></a>"
      ]
    },
    {
      "cell_type": "markdown",
      "metadata": {
        "pycharm": {
          "name": "#%% md\n"
        },
        "id": "siZgcDsj8SOd"
      },
      "source": [
        "# Fictional Army - Filtering and Sorting"
      ]
    },
    {
      "cell_type": "markdown",
      "metadata": {
        "pycharm": {
          "name": "#%% md\n"
        },
        "id": "Vt3UqeiW8SOf"
      },
      "source": [
        "### Introduction:\n",
        "\n",
        "This exercise was inspired by this [page](http://chrisalbon.com/python/)\n",
        "\n",
        "Special thanks to: https://github.com/chrisalbon for sharing the dataset and materials.\n",
        "\n",
        "### Step 1. Import the necessary libraries"
      ]
    },
    {
      "cell_type": "code",
      "execution_count": null,
      "metadata": {
        "pycharm": {
          "name": "#%%\n"
        },
        "id": "xm2SmG5t8SOg"
      },
      "outputs": [],
      "source": [
        "import pandas as pd"
      ]
    },
    {
      "cell_type": "markdown",
      "metadata": {
        "pycharm": {
          "name": "#%% md\n"
        },
        "id": "JS4RBdYY8SOh"
      },
      "source": [
        "### Step 2. This is the data given as a dictionary"
      ]
    },
    {
      "cell_type": "code",
      "execution_count": null,
      "metadata": {
        "collapsed": true,
        "pycharm": {
          "name": "#%%\n"
        },
        "id": "ubx5o2Yo8SOh"
      },
      "outputs": [],
      "source": [
        "# Create an example dataframe about a fictional army\n",
        "raw_data = {'regiment': ['Nighthawks', 'Nighthawks', 'Nighthawks', 'Nighthawks', 'Dragoons', 'Dragoons', 'Dragoons', 'Dragoons', 'Scouts', 'Scouts', 'Scouts', 'Scouts'],\n",
        "            'company': ['1st', '1st', '2nd', '2nd', '1st', '1st', '2nd', '2nd','1st', '1st', '2nd', '2nd'],\n",
        "            'deaths': [523, 52, 25, 616, 43, 234, 523, 62, 62, 73, 37, 35],\n",
        "            'battles': [5, 42, 2, 2, 4, 7, 8, 3, 4, 7, 8, 9],\n",
        "            'size': [1045, 957, 1099, 1400, 1592, 1006, 987, 849, 973, 1005, 1099, 1523],\n",
        "            'veterans': [1, 5, 62, 26, 73, 37, 949, 48, 48, 435, 63, 345],\n",
        "            'readiness': [1, 2, 3, 3, 2, 1, 2, 3, 2, 1, 2, 3],\n",
        "            'armored': [1, 0, 1, 1, 0, 1, 0, 1, 0, 0, 1, 1],\n",
        "            'deserters': [4, 24, 31, 2, 3, 4, 24, 31, 2, 3, 2, 3],\n",
        "            'origin': ['Arizona', 'California', 'Texas', 'Florida', 'Maine', 'Iowa', 'Alaska', 'Washington', 'Oregon', 'Wyoming', 'Louisana', 'Georgia']}"
      ]
    },
    {
      "cell_type": "markdown",
      "metadata": {
        "pycharm": {
          "name": "#%% md\n"
        },
        "id": "kmoKMsJz8SOi"
      },
      "source": [
        "### Step 3. Create a dataframe and assign it to a variable called army.\n",
        "\n",
        "#### Don't forget to include the columns names in the order presented in the dictionary ('regiment', 'company', 'deaths'...) so that the column index order is consistent with the solutions. If omitted, pandas will order the columns alphabetically."
      ]
    },
    {
      "cell_type": "code",
      "execution_count": null,
      "metadata": {
        "pycharm": {
          "name": "#%%\n"
        },
        "id": "2kw01cXw8SOi",
        "colab": {
          "base_uri": "https://localhost:8080/"
        },
        "outputId": "09d9617e-5d24-452f-eb7e-3268b501406c"
      },
      "outputs": [
        {
          "output_type": "stream",
          "name": "stdout",
          "text": [
            "      regiment company  deaths  battles  size  veterans  readiness  armored  \\\n",
            "0   Nighthawks     1st     523        5  1045         1          1        1   \n",
            "1   Nighthawks     1st      52       42   957         5          2        0   \n",
            "2   Nighthawks     2nd      25        2  1099        62          3        1   \n",
            "3   Nighthawks     2nd     616        2  1400        26          3        1   \n",
            "4     Dragoons     1st      43        4  1592        73          2        0   \n",
            "5     Dragoons     1st     234        7  1006        37          1        1   \n",
            "6     Dragoons     2nd     523        8   987       949          2        0   \n",
            "7     Dragoons     2nd      62        3   849        48          3        1   \n",
            "8       Scouts     1st      62        4   973        48          2        0   \n",
            "9       Scouts     1st      73        7  1005       435          1        0   \n",
            "10      Scouts     2nd      37        8  1099        63          2        1   \n",
            "11      Scouts     2nd      35        9  1523       345          3        1   \n",
            "\n",
            "    deserters      origin  \n",
            "0           4     Arizona  \n",
            "1          24  California  \n",
            "2          31       Texas  \n",
            "3           2     Florida  \n",
            "4           3       Maine  \n",
            "5           4        Iowa  \n",
            "6          24      Alaska  \n",
            "7          31  Washington  \n",
            "8           2      Oregon  \n",
            "9           3     Wyoming  \n",
            "10          2    Louisana  \n",
            "11          3     Georgia  \n"
          ]
        }
      ],
      "source": [
        "army = pd.DataFrame(raw_data)\n",
        "print(army)"
      ]
    },
    {
      "cell_type": "markdown",
      "metadata": {
        "pycharm": {
          "name": "#%% md\n"
        },
        "id": "X5b_qAK28SOj"
      },
      "source": [
        "### Step 4. Set the 'origin' colum as the index of the dataframe"
      ]
    },
    {
      "cell_type": "code",
      "execution_count": null,
      "metadata": {
        "pycharm": {
          "name": "#%%\n"
        },
        "id": "r180L3IP8SOk",
        "colab": {
          "base_uri": "https://localhost:8080/"
        },
        "outputId": "9046d2db-3b04-48f6-d5f4-d5c714ff74b4"
      },
      "outputs": [
        {
          "output_type": "stream",
          "name": "stdout",
          "text": [
            "              regiment company  deaths  battles  size  veterans  readiness  \\\n",
            "origin                                                                       \n",
            "Arizona     Nighthawks     1st     523        5  1045         1          1   \n",
            "California  Nighthawks     1st      52       42   957         5          2   \n",
            "Texas       Nighthawks     2nd      25        2  1099        62          3   \n",
            "Florida     Nighthawks     2nd     616        2  1400        26          3   \n",
            "Maine         Dragoons     1st      43        4  1592        73          2   \n",
            "Iowa          Dragoons     1st     234        7  1006        37          1   \n",
            "Alaska        Dragoons     2nd     523        8   987       949          2   \n",
            "Washington    Dragoons     2nd      62        3   849        48          3   \n",
            "Oregon          Scouts     1st      62        4   973        48          2   \n",
            "Wyoming         Scouts     1st      73        7  1005       435          1   \n",
            "Louisana        Scouts     2nd      37        8  1099        63          2   \n",
            "Georgia         Scouts     2nd      35        9  1523       345          3   \n",
            "\n",
            "            armored  deserters  \n",
            "origin                          \n",
            "Arizona           1          4  \n",
            "California        0         24  \n",
            "Texas             1         31  \n",
            "Florida           1          2  \n",
            "Maine             0          3  \n",
            "Iowa              1          4  \n",
            "Alaska            0         24  \n",
            "Washington        1         31  \n",
            "Oregon            0          2  \n",
            "Wyoming           0          3  \n",
            "Louisana          1          2  \n",
            "Georgia           1          3  \n"
          ]
        }
      ],
      "source": [
        "army.set_index('origin', inplace=True)\n",
        "print(army)"
      ]
    },
    {
      "cell_type": "markdown",
      "metadata": {
        "pycharm": {
          "name": "#%% md\n"
        },
        "id": "kmcXYlnw8SOk"
      },
      "source": [
        "### Step 5. Print only the column veterans"
      ]
    },
    {
      "cell_type": "code",
      "execution_count": null,
      "metadata": {
        "pycharm": {
          "name": "#%%\n"
        },
        "id": "NQJLcYI08SOk",
        "colab": {
          "base_uri": "https://localhost:8080/"
        },
        "outputId": "8d107ccb-363d-4556-815a-c88e190fe1d4"
      },
      "outputs": [
        {
          "output_type": "stream",
          "name": "stdout",
          "text": [
            "origin\n",
            "Arizona         1\n",
            "California      5\n",
            "Texas          62\n",
            "Florida        26\n",
            "Maine          73\n",
            "Iowa           37\n",
            "Alaska        949\n",
            "Washington     48\n",
            "Oregon         48\n",
            "Wyoming       435\n",
            "Louisana       63\n",
            "Georgia       345\n",
            "Name: veterans, dtype: int64\n"
          ]
        }
      ],
      "source": [
        "print(army['veterans'])"
      ]
    },
    {
      "cell_type": "markdown",
      "metadata": {
        "pycharm": {
          "name": "#%% md\n"
        },
        "id": "-N3QTIkS8SOk"
      },
      "source": [
        "### Step 6. Print the columns 'veterans' and 'deaths'"
      ]
    },
    {
      "cell_type": "code",
      "execution_count": null,
      "metadata": {
        "pycharm": {
          "name": "#%%\n"
        },
        "id": "17rF1RcP8SOl",
        "colab": {
          "base_uri": "https://localhost:8080/"
        },
        "outputId": "61d83fae-90bc-4683-83e3-1de5bbbaa20c"
      },
      "outputs": [
        {
          "output_type": "stream",
          "name": "stdout",
          "text": [
            "            veterans  deaths\n",
            "origin                      \n",
            "Arizona            1     523\n",
            "California         5      52\n",
            "Texas             62      25\n",
            "Florida           26     616\n",
            "Maine             73      43\n",
            "Iowa              37     234\n",
            "Alaska           949     523\n",
            "Washington        48      62\n",
            "Oregon            48      62\n",
            "Wyoming          435      73\n",
            "Louisana          63      37\n",
            "Georgia          345      35\n"
          ]
        }
      ],
      "source": [
        "print(army[['veterans', 'deaths']])"
      ]
    },
    {
      "cell_type": "markdown",
      "metadata": {
        "pycharm": {
          "name": "#%% md\n"
        },
        "id": "lm1EJZSw8SOl"
      },
      "source": [
        "### Step 7. Print the name of all the columns."
      ]
    },
    {
      "cell_type": "code",
      "execution_count": null,
      "metadata": {
        "pycharm": {
          "name": "#%%\n"
        },
        "id": "MkAwfkQH8SOl",
        "colab": {
          "base_uri": "https://localhost:8080/"
        },
        "outputId": "d8511aaf-07b9-4968-8791-9cd2a06a33c5"
      },
      "outputs": [
        {
          "output_type": "stream",
          "name": "stdout",
          "text": [
            "Index(['regiment', 'company', 'deaths', 'battles', 'size', 'veterans',\n",
            "       'readiness', 'armored', 'deserters'],\n",
            "      dtype='object')\n"
          ]
        }
      ],
      "source": [
        "print(army.columns)"
      ]
    },
    {
      "cell_type": "markdown",
      "metadata": {
        "pycharm": {
          "name": "#%% md\n"
        },
        "id": "FZN0XAaC8SOl"
      },
      "source": [
        "### Step 8. Select the 'deaths', 'size' and 'deserters' columns from Maine and Alaska"
      ]
    },
    {
      "cell_type": "code",
      "execution_count": null,
      "metadata": {
        "pycharm": {
          "name": "#%%\n"
        },
        "id": "dwdC52qn8SOm",
        "colab": {
          "base_uri": "https://localhost:8080/"
        },
        "outputId": "5dcde950-c7c4-41dd-9904-41f325a7d5c4"
      },
      "outputs": [
        {
          "output_type": "stream",
          "name": "stdout",
          "text": [
            "        deaths  size  deserters\n",
            "origin                         \n",
            "Maine       43  1592          3\n",
            "Alaska     523   987         24\n"
          ]
        }
      ],
      "source": [
        "selected_data = army.loc[['Maine', 'Alaska'], ['deaths', 'size', 'deserters']]\n",
        "print(selected_data)"
      ]
    },
    {
      "cell_type": "markdown",
      "metadata": {
        "pycharm": {
          "name": "#%% md\n"
        },
        "id": "zeFfyfge8SOm"
      },
      "source": [
        "### Step 9. Select the rows 3 to 7 and the columns 3 to 6"
      ]
    },
    {
      "cell_type": "code",
      "execution_count": null,
      "metadata": {
        "pycharm": {
          "name": "#%%\n"
        },
        "id": "BncZPM3B8SOm",
        "colab": {
          "base_uri": "https://localhost:8080/"
        },
        "outputId": "7400d96c-9c6f-4d5e-a689-6e52457621f8"
      },
      "outputs": [
        {
          "output_type": "stream",
          "name": "stdout",
          "text": [
            "         deaths  battles  size  veterans\n",
            "origin                                  \n",
            "Texas        25        2  1099        62\n",
            "Florida     616        2  1400        26\n",
            "Maine        43        4  1592        73\n",
            "Iowa        234        7  1006        37\n",
            "Alaska      523        8   987       949\n"
          ]
        }
      ],
      "source": [
        "selected_data = army.iloc[2:7, 2:6]\n",
        "print(selected_data)"
      ]
    },
    {
      "cell_type": "markdown",
      "metadata": {
        "pycharm": {
          "name": "#%% md\n"
        },
        "id": "JmXJo-uL8SOm"
      },
      "source": [
        "### Step 10. Select every row after the fourth row and all columns"
      ]
    },
    {
      "cell_type": "code",
      "execution_count": null,
      "metadata": {
        "pycharm": {
          "name": "#%%\n"
        },
        "id": "8EpWf_SS8SOm",
        "colab": {
          "base_uri": "https://localhost:8080/"
        },
        "outputId": "50ffc61a-442c-4b6b-cbd7-cd601ac860f4"
      },
      "outputs": [
        {
          "output_type": "stream",
          "name": "stdout",
          "text": [
            "            regiment company  deaths  battles  size  veterans  readiness  \\\n",
            "origin                                                                     \n",
            "Maine       Dragoons     1st      43        4  1592        73          2   \n",
            "Iowa        Dragoons     1st     234        7  1006        37          1   \n",
            "Alaska      Dragoons     2nd     523        8   987       949          2   \n",
            "Washington  Dragoons     2nd      62        3   849        48          3   \n",
            "Oregon        Scouts     1st      62        4   973        48          2   \n",
            "Wyoming       Scouts     1st      73        7  1005       435          1   \n",
            "Louisana      Scouts     2nd      37        8  1099        63          2   \n",
            "Georgia       Scouts     2nd      35        9  1523       345          3   \n",
            "\n",
            "            armored  deserters  \n",
            "origin                          \n",
            "Maine             0          3  \n",
            "Iowa              1          4  \n",
            "Alaska            0         24  \n",
            "Washington        1         31  \n",
            "Oregon            0          2  \n",
            "Wyoming           0          3  \n",
            "Louisana          1          2  \n",
            "Georgia           1          3  \n"
          ]
        }
      ],
      "source": [
        "selected_data = army.iloc[4:, :]\n",
        "print(selected_data)"
      ]
    },
    {
      "cell_type": "markdown",
      "metadata": {
        "pycharm": {
          "name": "#%% md\n"
        },
        "id": "MOsCTSaH8SOm"
      },
      "source": [
        "### Step 11. Select every row up to the 4th row and all columns"
      ]
    },
    {
      "cell_type": "code",
      "execution_count": null,
      "metadata": {
        "pycharm": {
          "name": "#%%\n"
        },
        "id": "xktmQz4G8SOn",
        "colab": {
          "base_uri": "https://localhost:8080/"
        },
        "outputId": "df2a52af-6f83-44cc-bb76-e2718d5e6eb8"
      },
      "outputs": [
        {
          "output_type": "stream",
          "name": "stdout",
          "text": [
            "              regiment company  deaths  battles  size  veterans  readiness  \\\n",
            "origin                                                                       \n",
            "Arizona     Nighthawks     1st     523        5  1045         1          1   \n",
            "California  Nighthawks     1st      52       42   957         5          2   \n",
            "Texas       Nighthawks     2nd      25        2  1099        62          3   \n",
            "Florida     Nighthawks     2nd     616        2  1400        26          3   \n",
            "\n",
            "            armored  deserters  \n",
            "origin                          \n",
            "Arizona           1          4  \n",
            "California        0         24  \n",
            "Texas             1         31  \n",
            "Florida           1          2  \n"
          ]
        }
      ],
      "source": [
        "selected_data = army.iloc[:4, :]\n",
        "print(selected_data)"
      ]
    },
    {
      "cell_type": "markdown",
      "metadata": {
        "pycharm": {
          "name": "#%% md\n"
        },
        "id": "8pqUNYDf8SOn"
      },
      "source": [
        "### Step 12. Select the 3rd column up to the 7th column"
      ]
    },
    {
      "cell_type": "code",
      "execution_count": null,
      "metadata": {
        "pycharm": {
          "name": "#%%\n"
        },
        "id": "oIzxziNu8SOn",
        "colab": {
          "base_uri": "https://localhost:8080/"
        },
        "outputId": "2cb946b3-2906-41ef-9ea3-292d4bda4dca"
      },
      "outputs": [
        {
          "output_type": "stream",
          "name": "stdout",
          "text": [
            "            deaths  battles  size  veterans  readiness\n",
            "origin                                                \n",
            "Arizona        523        5  1045         1          1\n",
            "California      52       42   957         5          2\n",
            "Texas           25        2  1099        62          3\n",
            "Florida        616        2  1400        26          3\n",
            "Maine           43        4  1592        73          2\n",
            "Iowa           234        7  1006        37          1\n",
            "Alaska         523        8   987       949          2\n",
            "Washington      62        3   849        48          3\n",
            "Oregon          62        4   973        48          2\n",
            "Wyoming         73        7  1005       435          1\n",
            "Louisana        37        8  1099        63          2\n",
            "Georgia         35        9  1523       345          3\n"
          ]
        }
      ],
      "source": [
        "selected_data = army.iloc[:, 2:7]\n",
        "print(selected_data)"
      ]
    },
    {
      "cell_type": "markdown",
      "metadata": {
        "pycharm": {
          "name": "#%% md\n"
        },
        "id": "LD0XEW4G8SOn"
      },
      "source": [
        "### Step 13. Select rows where df.deaths is greater than 50"
      ]
    },
    {
      "cell_type": "code",
      "execution_count": null,
      "metadata": {
        "pycharm": {
          "name": "#%%\n"
        },
        "id": "ribo6BV68SOn",
        "colab": {
          "base_uri": "https://localhost:8080/"
        },
        "outputId": "55f77702-eea2-4929-ac13-dccd1edad3d6"
      },
      "outputs": [
        {
          "output_type": "stream",
          "name": "stdout",
          "text": [
            "              regiment company  deaths  battles  size  veterans  readiness  \\\n",
            "origin                                                                       \n",
            "Arizona     Nighthawks     1st     523        5  1045         1          1   \n",
            "California  Nighthawks     1st      52       42   957         5          2   \n",
            "Florida     Nighthawks     2nd     616        2  1400        26          3   \n",
            "Iowa          Dragoons     1st     234        7  1006        37          1   \n",
            "Alaska        Dragoons     2nd     523        8   987       949          2   \n",
            "Washington    Dragoons     2nd      62        3   849        48          3   \n",
            "Oregon          Scouts     1st      62        4   973        48          2   \n",
            "Wyoming         Scouts     1st      73        7  1005       435          1   \n",
            "\n",
            "            armored  deserters  \n",
            "origin                          \n",
            "Arizona           1          4  \n",
            "California        0         24  \n",
            "Florida           1          2  \n",
            "Iowa              1          4  \n",
            "Alaska            0         24  \n",
            "Washington        1         31  \n",
            "Oregon            0          2  \n",
            "Wyoming           0          3  \n"
          ]
        }
      ],
      "source": [
        "selected_data = army[army['deaths'] > 50]\n",
        "print(selected_data)"
      ]
    },
    {
      "cell_type": "markdown",
      "metadata": {
        "pycharm": {
          "name": "#%% md\n"
        },
        "id": "w2nYvRcz8SOn"
      },
      "source": [
        "### Step 14. Select rows where df.deaths is greater than 500 or less than 50"
      ]
    },
    {
      "cell_type": "code",
      "execution_count": null,
      "metadata": {
        "pycharm": {
          "name": "#%%\n"
        },
        "id": "etvNJcIJ8SOo",
        "colab": {
          "base_uri": "https://localhost:8080/"
        },
        "outputId": "6cabfa97-582e-43e1-b340-6290082c93bc"
      },
      "outputs": [
        {
          "output_type": "stream",
          "name": "stdout",
          "text": [
            "            regiment company  deaths  battles  size  veterans  readiness  \\\n",
            "origin                                                                     \n",
            "Arizona   Nighthawks     1st     523        5  1045         1          1   \n",
            "Texas     Nighthawks     2nd      25        2  1099        62          3   \n",
            "Florida   Nighthawks     2nd     616        2  1400        26          3   \n",
            "Maine       Dragoons     1st      43        4  1592        73          2   \n",
            "Alaska      Dragoons     2nd     523        8   987       949          2   \n",
            "Louisana      Scouts     2nd      37        8  1099        63          2   \n",
            "Georgia       Scouts     2nd      35        9  1523       345          3   \n",
            "\n",
            "          armored  deserters  \n",
            "origin                        \n",
            "Arizona         1          4  \n",
            "Texas           1         31  \n",
            "Florida         1          2  \n",
            "Maine           0          3  \n",
            "Alaska          0         24  \n",
            "Louisana        1          2  \n",
            "Georgia         1          3  \n"
          ]
        }
      ],
      "source": [
        "selected_data = army[(army['deaths'] > 500) | (army['deaths'] < 50)]\n",
        "print(selected_data)"
      ]
    },
    {
      "cell_type": "markdown",
      "metadata": {
        "pycharm": {
          "name": "#%% md\n"
        },
        "id": "JZtodVDX8SOo"
      },
      "source": [
        "### Step 15. Select all the regiments not named \"Dragoons\""
      ]
    },
    {
      "cell_type": "code",
      "execution_count": null,
      "metadata": {
        "pycharm": {
          "name": "#%%\n"
        },
        "id": "SBZv13048SOo",
        "colab": {
          "base_uri": "https://localhost:8080/"
        },
        "outputId": "5bd9ba32-0698-4ede-844a-580ee8d8cad7"
      },
      "outputs": [
        {
          "output_type": "stream",
          "name": "stdout",
          "text": [
            "              regiment company  deaths  battles  size  veterans  readiness  \\\n",
            "origin                                                                       \n",
            "Arizona     Nighthawks     1st     523        5  1045         1          1   \n",
            "California  Nighthawks     1st      52       42   957         5          2   \n",
            "Texas       Nighthawks     2nd      25        2  1099        62          3   \n",
            "Florida     Nighthawks     2nd     616        2  1400        26          3   \n",
            "Oregon          Scouts     1st      62        4   973        48          2   \n",
            "Wyoming         Scouts     1st      73        7  1005       435          1   \n",
            "Louisana        Scouts     2nd      37        8  1099        63          2   \n",
            "Georgia         Scouts     2nd      35        9  1523       345          3   \n",
            "\n",
            "            armored  deserters  \n",
            "origin                          \n",
            "Arizona           1          4  \n",
            "California        0         24  \n",
            "Texas             1         31  \n",
            "Florida           1          2  \n",
            "Oregon            0          2  \n",
            "Wyoming           0          3  \n",
            "Louisana          1          2  \n",
            "Georgia           1          3  \n"
          ]
        }
      ],
      "source": [
        "selected_data = army[army['regiment'] != 'Dragoons']\n",
        "print(selected_data)"
      ]
    },
    {
      "cell_type": "markdown",
      "metadata": {
        "pycharm": {
          "name": "#%% md\n"
        },
        "id": "TgCrwNuK8SOo"
      },
      "source": [
        "### Step 16. Select the rows called Texas and Arizona"
      ]
    },
    {
      "cell_type": "code",
      "execution_count": null,
      "metadata": {
        "pycharm": {
          "name": "#%%\n"
        },
        "id": "EzGahkZ38SOo",
        "colab": {
          "base_uri": "https://localhost:8080/"
        },
        "outputId": "b3e87f53-3a42-4add-c81d-d204cbd0400a"
      },
      "outputs": [
        {
          "output_type": "stream",
          "name": "stdout",
          "text": [
            "           regiment company  deaths  battles  size  veterans  readiness  \\\n",
            "origin                                                                    \n",
            "Texas    Nighthawks     2nd      25        2  1099        62          3   \n",
            "Arizona  Nighthawks     1st     523        5  1045         1          1   \n",
            "\n",
            "         armored  deserters  \n",
            "origin                       \n",
            "Texas          1         31  \n",
            "Arizona        1          4  \n"
          ]
        }
      ],
      "source": [
        "selected_data = army.loc[['Texas', 'Arizona']]\n",
        "print(selected_data)"
      ]
    },
    {
      "cell_type": "markdown",
      "metadata": {
        "pycharm": {
          "name": "#%% md\n"
        },
        "id": "wvSk_WE-8SOo"
      },
      "source": [
        "### Step 17. Select the third cell in the row named Arizona"
      ]
    },
    {
      "cell_type": "code",
      "execution_count": null,
      "metadata": {
        "pycharm": {
          "name": "#%%\n"
        },
        "id": "kZu6MoI38SOo",
        "colab": {
          "base_uri": "https://localhost:8080/"
        },
        "outputId": "c44cd95b-dfe7-4b8a-96fc-17478714834f"
      },
      "outputs": [
        {
          "output_type": "stream",
          "name": "stdout",
          "text": [
            "523\n"
          ]
        }
      ],
      "source": [
        "selected_cell = army.loc['Arizona'].iloc[2]\n",
        "print(selected_cell)"
      ]
    },
    {
      "cell_type": "markdown",
      "metadata": {
        "pycharm": {
          "name": "#%% md\n"
        },
        "id": "kz3q2Kzs8SOo"
      },
      "source": [
        "### Step 18. Select the third cell down in the column named deaths"
      ]
    },
    {
      "cell_type": "code",
      "execution_count": null,
      "metadata": {
        "pycharm": {
          "name": "#%%\n"
        },
        "id": "QXWROtk08SOp",
        "colab": {
          "base_uri": "https://localhost:8080/"
        },
        "outputId": "69df71e7-ed5f-4d7d-e3d8-f3fedf7888bd"
      },
      "outputs": [
        {
          "output_type": "stream",
          "name": "stdout",
          "text": [
            "25\n"
          ]
        }
      ],
      "source": [
        "selected_cell = army.iloc[2, army.columns.get_loc('deaths')]\n",
        "print(selected_cell)"
      ]
    }
  ],
  "metadata": {
    "kernelspec": {
      "display_name": "Python 3",
      "language": "python",
      "name": "python3"
    },
    "language_info": {
      "codemirror_mode": {
        "name": "ipython",
        "version": 3
      },
      "file_extension": ".py",
      "mimetype": "text/x-python",
      "name": "python",
      "nbconvert_exporter": "python",
      "pygments_lexer": "ipython3",
      "version": "3.7.3"
    },
    "colab": {
      "provenance": [],
      "include_colab_link": true
    }
  },
  "nbformat": 4,
  "nbformat_minor": 0
}