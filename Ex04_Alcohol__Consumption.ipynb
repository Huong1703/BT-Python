{
  "cells": [
    {
      "cell_type": "markdown",
      "metadata": {
        "id": "view-in-github",
        "colab_type": "text"
      },
      "source": [
        "<a href=\"https://colab.research.google.com/github/Huong1703/BT-Python/blob/main/Ex04_Alcohol__Consumption.ipynb\" target=\"_parent\"><img src=\"https://colab.research.google.com/assets/colab-badge.svg\" alt=\"Open In Colab\"/></a>"
      ]
    },
    {
      "cell_type": "markdown",
      "metadata": {
        "pycharm": {
          "name": "#%% md\n"
        },
        "id": "WHSh-_OpPW5B"
      },
      "source": [
        "# Ex - GroupBy"
      ]
    },
    {
      "cell_type": "markdown",
      "metadata": {
        "pycharm": {
          "name": "#%% md\n"
        },
        "id": "Io6A55LmPW5D"
      },
      "source": [
        "### Introduction:\n",
        "\n",
        "GroupBy can be summarized as Split-Apply-Combine.\n",
        "\n",
        "Special thanks to: https://github.com/justmarkham for sharing the dataset and materials.\n",
        "\n",
        "Check out this [Diagram](http://i.imgur.com/yjNkiwL.png)  \n",
        "### Step 1. Import the necessary libraries"
      ]
    },
    {
      "cell_type": "code",
      "execution_count": null,
      "metadata": {
        "pycharm": {
          "name": "#%%\n"
        },
        "id": "hoUPie2uPW5E"
      },
      "outputs": [],
      "source": [
        "import pandas as pd\n",
        "import requests"
      ]
    },
    {
      "cell_type": "markdown",
      "metadata": {
        "pycharm": {
          "name": "#%% md\n"
        },
        "id": "PysZGcLCPW5F"
      },
      "source": [
        "### Step 2. Import the dataset from this [address](https://github.com/thieu1995/csv-files/blob/main/data/pandas/drinks.csv)."
      ]
    },
    {
      "cell_type": "markdown",
      "metadata": {
        "pycharm": {
          "name": "#%% md\n"
        },
        "id": "ZeeGXmSbPW5G"
      },
      "source": [
        "### Step 3. Assign it to a variable called drinks."
      ]
    },
    {
      "cell_type": "code",
      "execution_count": null,
      "metadata": {
        "pycharm": {
          "name": "#%%\n"
        },
        "id": "ItiBrBKiPW5G",
        "colab": {
          "base_uri": "https://localhost:8080/"
        },
        "outputId": "54a79337-bbf0-4d3b-88a1-1829b36cf597"
      },
      "outputs": [
        {
          "output_type": "stream",
          "name": "stdout",
          "text": [
            "country,beer_servings,spirit_servings,wine_servings,total_litres_of_pure_alcohol,continent\n",
            "Afghanistan,0,0,0,0.0,AS\n",
            "Albania,89,132,54,4.9,EU\n",
            "Algeria,25,0,14,0.7,AF\n",
            "Andorra,245,138,312,12.4,EU\n",
            "Angola,217,57,45,5.9,AF\n",
            "Antigua & Barbuda,102,128,45,4.9,NA\n",
            "Argentina,193,25,221,8.3,SA\n",
            "Armenia,21,179,11,3.8,EU\n",
            "Australia,261,72,212,10.4,OC\n",
            "Austria,279,75,191,9.7,EU\n",
            "Azerbaijan,21,46,5,1.3,EU\n",
            "Bahamas,122,176,51,6.3,NA\n",
            "Bahrain,42,63,7,2.0,AS\n",
            "Bangladesh,0,0,0,0.0,AS\n",
            "Barbados,143,173,36,6.3,NA\n",
            "Belarus,142,373,42,14.4,EU\n",
            "Belgium,295,84,212,10.5,EU\n",
            "Belize,263,114,8,6.8,NA\n",
            "Benin,34,4,13,1.1,AF\n",
            "Bhutan,23,0,0,0.4,AS\n",
            "Bolivia,167,41,8,3.8,SA\n",
            "Bosnia-Herzegovina,76,173,8,4.6,EU\n",
            "Botswana,173,35,35,5.4,AF\n",
            "Brazil,245,145,16,7.2,SA\n",
            "Brunei,31,2,1,0.6,AS\n",
            "Bulgaria,231,252,94,10.3,EU\n",
            "Burkina Faso,25,7,7,4.3,AF\n",
            "Burundi,88,0,0,6.3,AF\n",
            "Cote d'Ivoire,37,1,7,4.0,AF\n",
            "Cabo Verde,144,56,16,4.0,AF\n",
            "Cambodia,57,65,1,2.2,AS\n",
            "Cameroon,147,1,4,5.8,AF\n",
            "Canada,240,122,100,8.2,NA\n",
            "Central African Republic,17,2,1,1.8,AF\n",
            "Chad,15,1,1,0.4,AF\n",
            "Chile,130,124,172,7.6,SA\n",
            "China,79,192,8,5.0,AS\n",
            "Colombia,159,76,3,4.2,SA\n",
            "Comoros,1,3,1,0.1,AF\n",
            "Congo,76,1,9,1.7,AF\n",
            "Cook Islands,0,254,74,5.9,OC\n",
            "Costa Rica,149,87,11,4.4,NA\n",
            "Croatia,230,87,254,10.2,EU\n",
            "Cuba,93,137,5,4.2,NA\n",
            "Cyprus,192,154,113,8.2,EU\n",
            "Czech Republic,361,170,134,11.8,EU\n",
            "North Korea,0,0,0,0.0,AS\n",
            "DR Congo,32,3,1,2.3,AF\n",
            "Denmark,224,81,278,10.4,EU\n",
            "Djibouti,15,44,3,1.1,AF\n",
            "Dominica,52,286,26,6.6,NA\n",
            "Dominican Republic,193,147,9,6.2,NA\n",
            "Ecuador,162,74,3,4.2,SA\n",
            "Egypt,6,4,1,0.2,AF\n",
            "El Salvador,52,69,2,2.2,NA\n",
            "Equatorial Guinea,92,0,233,5.8,AF\n",
            "Eritrea,18,0,0,0.5,AF\n",
            "Estonia,224,194,59,9.5,EU\n",
            "Ethiopia,20,3,0,0.7,AF\n",
            "Fiji,77,35,1,2.0,OC\n",
            "Finland,263,133,97,10.0,EU\n",
            "France,127,151,370,11.8,EU\n",
            "Gabon,347,98,59,8.9,AF\n",
            "Gambia,8,0,1,2.4,AF\n",
            "Georgia,52,100,149,5.4,EU\n",
            "Germany,346,117,175,11.3,EU\n",
            "Ghana,31,3,10,1.8,AF\n",
            "Greece,133,112,218,8.3,EU\n",
            "Grenada,199,438,28,11.9,NA\n",
            "Guatemala,53,69,2,2.2,NA\n",
            "Guinea,9,0,2,0.2,AF\n",
            "Guinea-Bissau,28,31,21,2.5,AF\n",
            "Guyana,93,302,1,7.1,SA\n",
            "Haiti,1,326,1,5.9,NA\n",
            "Honduras,69,98,2,3.0,NA\n",
            "Hungary,234,215,185,11.3,EU\n",
            "Iceland,233,61,78,6.6,EU\n",
            "India,9,114,0,2.2,AS\n",
            "Indonesia,5,1,0,0.1,AS\n",
            "Iran,0,0,0,0.0,AS\n",
            "Iraq,9,3,0,0.2,AS\n",
            "Ireland,313,118,165,11.4,EU\n",
            "Israel,63,69,9,2.5,AS\n",
            "Italy,85,42,237,6.5,EU\n",
            "Jamaica,82,97,9,3.4,NA\n",
            "Japan,77,202,16,7.0,AS\n",
            "Jordan,6,21,1,0.5,AS\n",
            "Kazakhstan,124,246,12,6.8,AS\n",
            "Kenya,58,22,2,1.8,AF\n",
            "Kiribati,21,34,1,1.0,OC\n",
            "Kuwait,0,0,0,0.0,AS\n",
            "Kyrgyzstan,31,97,6,2.4,AS\n",
            "Laos,62,0,123,6.2,AS\n",
            "Latvia,281,216,62,10.5,EU\n",
            "Lebanon,20,55,31,1.9,AS\n",
            "Lesotho,82,29,0,2.8,AF\n",
            "Liberia,19,152,2,3.1,AF\n",
            "Libya,0,0,0,0.0,AF\n",
            "Lithuania,343,244,56,12.9,EU\n",
            "Luxembourg,236,133,271,11.4,EU\n",
            "Madagascar,26,15,4,0.8,AF\n",
            "Malawi,8,11,1,1.5,AF\n",
            "Malaysia,13,4,0,0.3,AS\n",
            "Maldives,0,0,0,0.0,AS\n",
            "Mali,5,1,1,0.6,AF\n",
            "Malta,149,100,120,6.6,EU\n",
            "Marshall Islands,0,0,0,0.0,OC\n",
            "Mauritania,0,0,0,0.0,AF\n",
            "Mauritius,98,31,18,2.6,AF\n",
            "Mexico,238,68,5,5.5,NA\n",
            "Micronesia,62,50,18,2.3,OC\n",
            "Monaco,0,0,0,0.0,EU\n",
            "Mongolia,77,189,8,4.9,AS\n",
            "Montenegro,31,114,128,4.9,EU\n",
            "Morocco,12,6,10,0.5,AF\n",
            "Mozambique,47,18,5,1.3,AF\n",
            "Myanmar,5,1,0,0.1,AS\n",
            "Namibia,376,3,1,6.8,AF\n",
            "Nauru,49,0,8,1.0,OC\n",
            "Nepal,5,6,0,0.2,AS\n",
            "Netherlands,251,88,190,9.4,EU\n",
            "New Zealand,203,79,175,9.3,OC\n",
            "Nicaragua,78,118,1,3.5,NA\n",
            "Niger,3,2,1,0.1,AF\n",
            "Nigeria,42,5,2,9.1,AF\n",
            "Niue,188,200,7,7.0,OC\n",
            "Norway,169,71,129,6.7,EU\n",
            "Oman,22,16,1,0.7,AS\n",
            "Pakistan,0,0,0,0.0,AS\n",
            "Palau,306,63,23,6.9,OC\n",
            "Panama,285,104,18,7.2,NA\n",
            "Papua New Guinea,44,39,1,1.5,OC\n",
            "Paraguay,213,117,74,7.3,SA\n",
            "Peru,163,160,21,6.1,SA\n",
            "Philippines,71,186,1,4.6,AS\n",
            "Poland,343,215,56,10.9,EU\n",
            "Portugal,194,67,339,11.0,EU\n",
            "Qatar,1,42,7,0.9,AS\n",
            "South Korea,140,16,9,9.8,AS\n",
            "Moldova,109,226,18,6.3,EU\n",
            "Romania,297,122,167,10.4,EU\n",
            "Russian Federation,247,326,73,11.5,AS\n",
            "Rwanda,43,2,0,6.8,AF\n",
            "St. Kitts & Nevis,194,205,32,7.7,NA\n",
            "St. Lucia,171,315,71,10.1,NA\n",
            "St. Vincent & the Grenadines,120,221,11,6.3,NA\n",
            "Samoa,105,18,24,2.6,OC\n",
            "San Marino,0,0,0,0.0,EU\n",
            "Sao Tome & Principe,56,38,140,4.2,AF\n",
            "Saudi Arabia,0,5,0,0.1,AS\n",
            "Senegal,9,1,7,0.3,AF\n",
            "Serbia,283,131,127,9.6,EU\n",
            "Seychelles,157,25,51,4.1,AF\n",
            "Sierra Leone,25,3,2,6.7,AF\n",
            "Singapore,60,12,11,1.5,AS\n",
            "Slovakia,196,293,116,11.4,EU\n",
            "Slovenia,270,51,276,10.6,EU\n",
            "Solomon Islands,56,11,1,1.2,OC\n",
            "Somalia,0,0,0,0.0,AF\n",
            "South Africa,225,76,81,8.2,AF\n",
            "Spain,284,157,112,10.0,EU\n",
            "Sri Lanka,16,104,0,2.2,AS\n",
            "Sudan,8,13,0,1.7,AF\n",
            "Suriname,128,178,7,5.6,SA\n",
            "Swaziland,90,2,2,4.7,AF\n",
            "Sweden,152,60,186,7.2,EU\n",
            "Switzerland,185,100,280,10.2,EU\n",
            "Syria,5,35,16,1.0,AS\n",
            "Tajikistan,2,15,0,0.3,AS\n",
            "Thailand,99,258,1,6.4,AS\n",
            "Macedonia,106,27,86,3.9,EU\n",
            "Timor-Leste,1,1,4,0.1,AS\n",
            "Togo,36,2,19,1.3,AF\n",
            "Tonga,36,21,5,1.1,OC\n",
            "Trinidad & Tobago,197,156,7,6.4,NA\n",
            "Tunisia,51,3,20,1.3,AF\n",
            "Turkey,51,22,7,1.4,AS\n",
            "Turkmenistan,19,71,32,2.2,AS\n",
            "Tuvalu,6,41,9,1.0,OC\n",
            "Uganda,45,9,0,8.3,AF\n",
            "Ukraine,206,237,45,8.9,EU\n",
            "United Arab Emirates,16,135,5,2.8,AS\n",
            "United Kingdom,219,126,195,10.4,EU\n",
            "Tanzania,36,6,1,5.7,AF\n",
            "USA,249,158,84,8.7,NA\n",
            "Uruguay,115,35,220,6.6,SA\n",
            "Uzbekistan,25,101,8,2.4,AS\n",
            "Vanuatu,21,18,11,0.9,OC\n",
            "Venezuela,333,100,3,7.7,SA\n",
            "Vietnam,111,2,1,2.0,AS\n",
            "Yemen,6,0,0,0.1,AS\n",
            "Zambia,32,19,4,2.5,AF\n",
            "Zimbabwe,64,18,4,4.7,AF\n",
            "\n"
          ]
        }
      ],
      "source": [
        "response = requests.get('https://raw.githubusercontent.com/thieu1995/csv-files/main/data/pandas/drinks.csv')\n",
        "data = response.text\n",
        "print(data)"
      ]
    },
    {
      "cell_type": "code",
      "source": [
        "drinks = pd.read_csv('https://raw.githubusercontent.com/thieu1995/csv-files/main/data/pandas/drinks.csv', sep='\\t')"
      ],
      "metadata": {
        "id": "-oRM3QmQobPi"
      },
      "execution_count": null,
      "outputs": []
    },
    {
      "cell_type": "markdown",
      "metadata": {
        "pycharm": {
          "name": "#%% md\n"
        },
        "id": "0HV94sybPW5H"
      },
      "source": [
        "### Step 4. Which continent drinks more beer on average?"
      ]
    },
    {
      "cell_type": "code",
      "source": [
        "beer_avg_by_continent = drinks_df.groupby('continent')['beer_servings'].mean()\n",
        "continent_max_beer = beer_avg_by_continent.idxmax()\n",
        "\n",
        "print(\"The continent that drinks the most beer on average is:\", continent_max_beer)"
      ],
      "metadata": {
        "colab": {
          "base_uri": "https://localhost:8080/"
        },
        "id": "vaBiOxcZjeQp",
        "outputId": "75af18cc-749a-4316-ef06-6931036edb48"
      },
      "execution_count": null,
      "outputs": [
        {
          "output_type": "stream",
          "name": "stdout",
          "text": [
            "The continent that drinks the most beer on average is: EU\n"
          ]
        }
      ]
    },
    {
      "cell_type": "markdown",
      "metadata": {
        "pycharm": {
          "name": "#%% md\n"
        },
        "id": "b7XGdUgdPW5I"
      },
      "source": [
        "### Step 5. For each continent print the statistics for wine consumption."
      ]
    },
    {
      "cell_type": "code",
      "execution_count": null,
      "metadata": {
        "pycharm": {
          "name": "#%%\n"
        },
        "id": "oTgE7WM5PW5I",
        "colab": {
          "base_uri": "https://localhost:8080/"
        },
        "outputId": "fbec63e5-f1d1-4300-cccb-529d5a5bff89"
      },
      "outputs": [
        {
          "output_type": "stream",
          "name": "stdout",
          "text": [
            "Statistics for wine consumption by continent:            count        mean        std  min   25%    50%     75%    max\n",
            "continent                                                               \n",
            "AF          53.0   16.264151  38.846419  0.0   1.0    2.0   13.00  233.0\n",
            "AS          44.0    9.068182  21.667034  0.0   0.0    1.0    8.00  123.0\n",
            "EU          45.0  142.222222  97.421738  0.0  59.0  128.0  195.00  370.0\n",
            "OC          16.0   35.625000  64.555790  0.0   1.0    8.5   23.25  212.0\n",
            "SA          12.0   62.416667  88.620189  1.0   3.0   12.0   98.50  221.0\n"
          ]
        }
      ],
      "source": [
        "wine_stats_by_continent = drinks_df.groupby('continent')['wine_servings'].describe()\n",
        "print(\"Statistics for wine consumption by continent:\", wine_stats_by_continent)"
      ]
    },
    {
      "cell_type": "markdown",
      "metadata": {
        "pycharm": {
          "name": "#%% md\n"
        },
        "id": "jh3dJ7KJPW5I"
      },
      "source": [
        "### Step 6. Print the mean alcohol consumption per continent for every column"
      ]
    },
    {
      "cell_type": "code",
      "execution_count": null,
      "metadata": {
        "pycharm": {
          "name": "#%%\n"
        },
        "id": "pGNUfWEsPW5J",
        "colab": {
          "base_uri": "https://localhost:8080/"
        },
        "outputId": "fe215f94-e002-47be-812b-d467556290b9"
      },
      "outputs": [
        {
          "output_type": "stream",
          "name": "stdout",
          "text": [
            "Mean alcohol consumption per continent for every column:            beer_servings  spirit_servings  wine_servings  \\\n",
            "continent                                                  \n",
            "AF             61.471698        16.339623      16.264151   \n",
            "AS             37.045455        60.840909       9.068182   \n",
            "EU            193.777778       132.555556     142.222222   \n",
            "OC             89.687500        58.437500      35.625000   \n",
            "SA            175.083333       114.750000      62.416667   \n",
            "\n",
            "           total_litres_of_pure_alcohol  \n",
            "continent                                \n",
            "AF                             3.007547  \n",
            "AS                             2.170455  \n",
            "EU                             8.617778  \n",
            "OC                             3.381250  \n",
            "SA                             6.308333  \n"
          ]
        },
        {
          "output_type": "stream",
          "name": "stderr",
          "text": [
            "<ipython-input-51-1f114c5a940a>:1: FutureWarning: The default value of numeric_only in DataFrameGroupBy.mean is deprecated. In a future version, numeric_only will default to False. Either specify numeric_only or select only columns which should be valid for the function.\n",
            "  mean_alcohol_by_continent = drinks_df.groupby('continent').mean()\n"
          ]
        }
      ],
      "source": [
        "mean_alcohol_by_continent = drinks_df.groupby('continent').mean()\n",
        "print(\"Mean alcohol consumption per continent for every column:\", mean_alcohol_by_continent)"
      ]
    },
    {
      "cell_type": "markdown",
      "metadata": {
        "pycharm": {
          "name": "#%% md\n"
        },
        "id": "IuU53N_HPW5J"
      },
      "source": [
        "### Step 7. Print the median alcohol consumption per continent for every column"
      ]
    },
    {
      "cell_type": "code",
      "execution_count": null,
      "metadata": {
        "pycharm": {
          "name": "#%%\n"
        },
        "id": "eM56KGq-PW5J",
        "colab": {
          "base_uri": "https://localhost:8080/"
        },
        "outputId": "df4bf085-9500-44e8-97a3-539a878ce427"
      },
      "outputs": [
        {
          "output_type": "stream",
          "name": "stdout",
          "text": [
            "Median alcohol consumption per continent for every column:            beer_servings  spirit_servings  wine_servings  \\\n",
            "continent                                                  \n",
            "AF                  32.0              3.0            2.0   \n",
            "AS                  17.5             16.0            1.0   \n",
            "EU                 219.0            122.0          128.0   \n",
            "OC                  52.5             37.0            8.5   \n",
            "SA                 162.5            108.5           12.0   \n",
            "\n",
            "           total_litres_of_pure_alcohol  \n",
            "continent                                \n",
            "AF                                 2.30  \n",
            "AS                                 1.20  \n",
            "EU                                10.00  \n",
            "OC                                 1.75  \n",
            "SA                                 6.85  \n"
          ]
        },
        {
          "output_type": "stream",
          "name": "stderr",
          "text": [
            "<ipython-input-53-ffe87cec4b62>:1: FutureWarning: The default value of numeric_only in DataFrameGroupBy.median is deprecated. In a future version, numeric_only will default to False. Either specify numeric_only or select only columns which should be valid for the function.\n",
            "  median_alcohol_by_continent = drinks_df.groupby('continent').median()\n"
          ]
        }
      ],
      "source": [
        "median_alcohol_by_continent = drinks_df.groupby('continent').median()\n",
        "print(\"Median alcohol consumption per continent for every column:\", median_alcohol_by_continent)"
      ]
    },
    {
      "cell_type": "markdown",
      "metadata": {
        "pycharm": {
          "name": "#%% md\n"
        },
        "id": "LdCUWCW_PW5J"
      },
      "source": [
        "### Step 8. Print the mean, min and max values for spirit consumption.\n",
        "#### This time output a DataFrame"
      ]
    },
    {
      "cell_type": "code",
      "execution_count": null,
      "metadata": {
        "pycharm": {
          "name": "#%%\n"
        },
        "id": "rk494wMLPW5K",
        "colab": {
          "base_uri": "https://localhost:8080/"
        },
        "outputId": "0ee093d7-f05a-4a7a-ea1f-c98f0d009a80"
      },
      "outputs": [
        {
          "output_type": "stream",
          "name": "stdout",
          "text": [
            "Mean, Min, and Max values for spirit consumption per continent:                  mean  min  max\n",
            "continent                      \n",
            "AF          16.339623    0  152\n",
            "AS          60.840909    0  326\n",
            "EU         132.555556    0  373\n",
            "OC          58.437500    0  254\n",
            "SA         114.750000   25  302\n"
          ]
        }
      ],
      "source": [
        "spirit_stats_by_continent = drinks_df.groupby('continent')['spirit_servings'].agg(['mean', 'min', 'max'])\n",
        "print(\"Mean, Min, and Max values for spirit consumption per continent:\", spirit_stats_by_continent)"
      ]
    }
  ],
  "metadata": {
    "kernelspec": {
      "display_name": "Python 2",
      "language": "python",
      "name": "python2"
    },
    "language_info": {
      "codemirror_mode": {
        "name": "ipython",
        "version": 2
      },
      "file_extension": ".py",
      "mimetype": "text/x-python",
      "name": "python",
      "nbconvert_exporter": "python",
      "pygments_lexer": "ipython2",
      "version": "2.7.16"
    },
    "colab": {
      "provenance": [],
      "include_colab_link": true
    }
  },
  "nbformat": 4,
  "nbformat_minor": 0
}