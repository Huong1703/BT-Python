{
  "cells": [
    {
      "cell_type": "markdown",
      "metadata": {
        "id": "view-in-github",
        "colab_type": "text"
      },
      "source": [
        "<a href=\"https://colab.research.google.com/github/Huong1703/BT-Python/blob/main/Ex01_World_Food_Facts.ipynb\" target=\"_parent\"><img src=\"https://colab.research.google.com/assets/colab-badge.svg\" alt=\"Open In Colab\"/></a>"
      ]
    },
    {
      "cell_type": "markdown",
      "metadata": {
        "pycharm": {
          "name": "#%% md\n"
        },
        "id": "ahEUwES36B5L"
      },
      "source": [
        "# Exercise 1"
      ]
    },
    {
      "cell_type": "markdown",
      "metadata": {
        "pycharm": {
          "name": "#%% md\n"
        },
        "id": "z-FRnIAB6B5N"
      },
      "source": [
        "### Step 1. Go to https://www.kaggle.com/openfoodfacts/world-food-facts/data"
      ]
    },
    {
      "cell_type": "markdown",
      "metadata": {
        "pycharm": {
          "name": "#%% md\n"
        },
        "id": "bqj5OT9V6B5O"
      },
      "source": [
        "### Step 2. Download the dataset to your computer and unzip it."
      ]
    },
    {
      "cell_type": "markdown",
      "metadata": {
        "pycharm": {
          "name": "#%% md\n"
        },
        "id": "0ZOr6dC76B5O"
      },
      "source": [
        "### Step 3. Use the tsv file and assign it to a dataframe called food"
      ]
    },
    {
      "cell_type": "code",
      "execution_count": null,
      "metadata": {
        "collapsed": true,
        "pycharm": {
          "name": "#%%\n"
        },
        "id": "o03VRmp36B5P",
        "colab": {
          "base_uri": "https://localhost:8080/"
        },
        "outputId": "83e85764-95f3-47d8-f8bf-42a81ca73e8e"
      },
      "outputs": [
        {
          "output_type": "stream",
          "name": "stderr",
          "text": [
            "<ipython-input-18-86b8268e92a3>:3: DtypeWarning: Columns (8,17,18,19,20,21,22,23,24,25,26,28,29,37,38,39,48) have mixed types. Specify dtype option on import or set low_memory=False.\n",
            "  food = pd.read_csv(file_path, sep='\\t')\n"
          ]
        },
        {
          "output_type": "stream",
          "name": "stdout",
          "text": [
            "              code                                                url  \\\n",
            "0             3087  http://world-en.openfoodfacts.org/product/0000...   \n",
            "1             4530  http://world-en.openfoodfacts.org/product/0000...   \n",
            "2             4559  http://world-en.openfoodfacts.org/product/0000...   \n",
            "3            16087  http://world-en.openfoodfacts.org/product/0000...   \n",
            "4            16094  http://world-en.openfoodfacts.org/product/0000...   \n",
            "...            ...                                                ...   \n",
            "51174  41498203887  http://world-en.openfoodfacts.org/product/0041...   \n",
            "51175  41498204006  http://world-en.openfoodfacts.org/product/0041...   \n",
            "51176  41498204013  http://world-en.openfoodfacts.org/product/0041...   \n",
            "51177  41498204143  http://world-en.openfoodfacts.org/product/0041...   \n",
            "51178  41498204334            http://world-en.openfoodfacts.org/produ   \n",
            "\n",
            "                          creator     created_t      created_datetime  \\\n",
            "0      openfoodfacts-contributors  1.474104e+09  2016-09-17T09:17:46Z   \n",
            "1                 usda-ndb-import  1.489070e+09  2017-03-09T14:32:37Z   \n",
            "2                 usda-ndb-import  1.489070e+09  2017-03-09T14:32:37Z   \n",
            "3                 usda-ndb-import  1.489056e+09  2017-03-09T10:35:31Z   \n",
            "4                 usda-ndb-import  1.489056e+09  2017-03-09T10:34:13Z   \n",
            "...                           ...           ...                   ...   \n",
            "51174  openfoodfacts-contributors  1.458581e+09  2016-03-21T17:28:15Z   \n",
            "51175             usda-ndb-import  1.489072e+09  2017-03-09T15:11:14Z   \n",
            "51176             usda-ndb-import  1.489074e+09  2017-03-09T15:44:19Z   \n",
            "51177             usda-ndb-import  1.489076e+09  2017-03-09T16:15:11Z   \n",
            "51178                         NaN           NaN                   NaN   \n",
            "\n",
            "       last_modified_t last_modified_datetime                    product_name  \\\n",
            "0         1.474104e+09   2016-09-17T09:18:13Z              Farine de blé noir   \n",
            "1         1.489070e+09   2017-03-09T14:32:37Z  Banana Chips Sweetened (Whole)   \n",
            "2         1.489070e+09   2017-03-09T14:32:37Z                         Peanuts   \n",
            "3         1.489056e+09   2017-03-09T10:35:31Z          Organic Salted Nut Mix   \n",
            "4         1.489056e+09   2017-03-09T10:34:13Z                 Organic Polenta   \n",
            "...                ...                    ...                             ...   \n",
            "51174     1.458581e+09   2016-03-21T17:28:16Z                             NaN   \n",
            "51175     1.489072e+09   2017-03-09T15:11:14Z        Blue Corn Tortilla Chips   \n",
            "51176     1.489074e+09   2017-03-09T15:44:19Z       Multigrain Tortilla Chips   \n",
            "51177     1.489076e+09   2017-03-09T16:15:11Z       Pistachios, Salt & Pepper   \n",
            "51178              NaN                    NaN                             NaN   \n",
            "\n",
            "      generic_name quantity  ... fruits-vegetables-nuts_100g  \\\n",
            "0              NaN      1kg  ...                         NaN   \n",
            "1              NaN      NaN  ...                         NaN   \n",
            "2              NaN      NaN  ...                         NaN   \n",
            "3              NaN      NaN  ...                         NaN   \n",
            "4              NaN      NaN  ...                         NaN   \n",
            "...            ...      ...  ...                         ...   \n",
            "51174          NaN      NaN  ...                         NaN   \n",
            "51175          NaN      NaN  ...                         NaN   \n",
            "51176          NaN      NaN  ...                         NaN   \n",
            "51177          NaN      NaN  ...                         NaN   \n",
            "51178          NaN      NaN  ...                         NaN   \n",
            "\n",
            "      fruits-vegetables-nuts-estimate_100g collagen-meat-protein-ratio_100g  \\\n",
            "0                                      NaN                              NaN   \n",
            "1                                      NaN                              NaN   \n",
            "2                                      NaN                              NaN   \n",
            "3                                      NaN                              NaN   \n",
            "4                                      NaN                              NaN   \n",
            "...                                    ...                              ...   \n",
            "51174                                  NaN                              NaN   \n",
            "51175                                  NaN                              NaN   \n",
            "51176                                  NaN                              NaN   \n",
            "51177                                  NaN                              NaN   \n",
            "51178                                  NaN                              NaN   \n",
            "\n",
            "      cocoa_100g chlorophyl_100g carbon-footprint_100g  \\\n",
            "0            NaN             NaN                   NaN   \n",
            "1            NaN             NaN                   NaN   \n",
            "2            NaN             NaN                   NaN   \n",
            "3            NaN             NaN                   NaN   \n",
            "4            NaN             NaN                   NaN   \n",
            "...          ...             ...                   ...   \n",
            "51174        NaN             NaN                   NaN   \n",
            "51175        NaN             NaN                   NaN   \n",
            "51176        NaN             NaN                   NaN   \n",
            "51177        NaN             NaN                   NaN   \n",
            "51178        NaN             NaN                   NaN   \n",
            "\n",
            "      nutrition-score-fr_100g nutrition-score-uk_100g glycemic-index_100g  \\\n",
            "0                         NaN                     NaN                 NaN   \n",
            "1                        14.0                    14.0                 NaN   \n",
            "2                         0.0                     0.0                 NaN   \n",
            "3                        12.0                    12.0                 NaN   \n",
            "4                         NaN                     NaN                 NaN   \n",
            "...                       ...                     ...                 ...   \n",
            "51174                     NaN                     NaN                 NaN   \n",
            "51175                    10.0                    10.0                 NaN   \n",
            "51176                     8.0                     8.0                 NaN   \n",
            "51177                    17.0                    17.0                 NaN   \n",
            "51178                     NaN                     NaN                 NaN   \n",
            "\n",
            "      water-hardness_100g  \n",
            "0                     NaN  \n",
            "1                     NaN  \n",
            "2                     NaN  \n",
            "3                     NaN  \n",
            "4                     NaN  \n",
            "...                   ...  \n",
            "51174                 NaN  \n",
            "51175                 NaN  \n",
            "51176                 NaN  \n",
            "51177                 NaN  \n",
            "51178                 NaN  \n",
            "\n",
            "[51179 rows x 163 columns]\n"
          ]
        }
      ],
      "source": [
        "import pandas as pd\n",
        "file_path = 'en.openfoodfacts.org.products.tsv'\n",
        "food = pd.read_csv(file_path, sep='\\t')\n",
        "print(food)"
      ]
    },
    {
      "cell_type": "markdown",
      "metadata": {
        "pycharm": {
          "name": "#%% md\n"
        },
        "id": "-DbUketO6B5Q"
      },
      "source": [
        "### Step 4. See the first 5 entries"
      ]
    },
    {
      "cell_type": "code",
      "execution_count": null,
      "metadata": {
        "collapsed": true,
        "pycharm": {
          "name": "#%%\n"
        },
        "id": "9ZS4IQJT6B5Q",
        "colab": {
          "base_uri": "https://localhost:8080/"
        },
        "outputId": "fb5f3340-0476-445e-b989-95f3aee40518"
      },
      "outputs": [
        {
          "output_type": "stream",
          "name": "stdout",
          "text": [
            "    code                                                url  \\\n",
            "0   3087  http://world-en.openfoodfacts.org/product/0000...   \n",
            "1   4530  http://world-en.openfoodfacts.org/product/0000...   \n",
            "2   4559  http://world-en.openfoodfacts.org/product/0000...   \n",
            "3  16087  http://world-en.openfoodfacts.org/product/0000...   \n",
            "4  16094  http://world-en.openfoodfacts.org/product/0000...   \n",
            "\n",
            "                      creator     created_t      created_datetime  \\\n",
            "0  openfoodfacts-contributors  1.474104e+09  2016-09-17T09:17:46Z   \n",
            "1             usda-ndb-import  1.489070e+09  2017-03-09T14:32:37Z   \n",
            "2             usda-ndb-import  1.489070e+09  2017-03-09T14:32:37Z   \n",
            "3             usda-ndb-import  1.489056e+09  2017-03-09T10:35:31Z   \n",
            "4             usda-ndb-import  1.489056e+09  2017-03-09T10:34:13Z   \n",
            "\n",
            "   last_modified_t last_modified_datetime                    product_name  \\\n",
            "0     1.474104e+09   2016-09-17T09:18:13Z              Farine de blé noir   \n",
            "1     1.489070e+09   2017-03-09T14:32:37Z  Banana Chips Sweetened (Whole)   \n",
            "2     1.489070e+09   2017-03-09T14:32:37Z                         Peanuts   \n",
            "3     1.489056e+09   2017-03-09T10:35:31Z          Organic Salted Nut Mix   \n",
            "4     1.489056e+09   2017-03-09T10:34:13Z                 Organic Polenta   \n",
            "\n",
            "  generic_name quantity  ... fruits-vegetables-nuts_100g  \\\n",
            "0          NaN      1kg  ...                         NaN   \n",
            "1          NaN      NaN  ...                         NaN   \n",
            "2          NaN      NaN  ...                         NaN   \n",
            "3          NaN      NaN  ...                         NaN   \n",
            "4          NaN      NaN  ...                         NaN   \n",
            "\n",
            "  fruits-vegetables-nuts-estimate_100g collagen-meat-protein-ratio_100g  \\\n",
            "0                                  NaN                              NaN   \n",
            "1                                  NaN                              NaN   \n",
            "2                                  NaN                              NaN   \n",
            "3                                  NaN                              NaN   \n",
            "4                                  NaN                              NaN   \n",
            "\n",
            "  cocoa_100g chlorophyl_100g carbon-footprint_100g nutrition-score-fr_100g  \\\n",
            "0        NaN             NaN                   NaN                     NaN   \n",
            "1        NaN             NaN                   NaN                    14.0   \n",
            "2        NaN             NaN                   NaN                     0.0   \n",
            "3        NaN             NaN                   NaN                    12.0   \n",
            "4        NaN             NaN                   NaN                     NaN   \n",
            "\n",
            "  nutrition-score-uk_100g glycemic-index_100g water-hardness_100g  \n",
            "0                     NaN                 NaN                 NaN  \n",
            "1                    14.0                 NaN                 NaN  \n",
            "2                     0.0                 NaN                 NaN  \n",
            "3                    12.0                 NaN                 NaN  \n",
            "4                     NaN                 NaN                 NaN  \n",
            "\n",
            "[5 rows x 163 columns]\n"
          ]
        }
      ],
      "source": [
        "print(food.head(5))"
      ]
    },
    {
      "cell_type": "markdown",
      "metadata": {
        "pycharm": {
          "name": "#%% md\n"
        },
        "id": "e9AwMxwB6B5R"
      },
      "source": [
        "### Step 5. What is the number of observations in the dataset?"
      ]
    },
    {
      "cell_type": "code",
      "execution_count": null,
      "metadata": {
        "collapsed": true,
        "pycharm": {
          "name": "#%%\n"
        },
        "id": "N9IdS2Ug6B5R",
        "colab": {
          "base_uri": "https://localhost:8080/"
        },
        "outputId": "ce0aa72b-e884-44b8-b560-82f8dd9a903a"
      },
      "outputs": [
        {
          "output_type": "stream",
          "name": "stdout",
          "text": [
            "Number of observations in the dataset: 51179\n"
          ]
        }
      ],
      "source": [
        "num_observations = food.shape[0]\n",
        "print(\"Number of observations in the dataset:\", num_observations)"
      ]
    },
    {
      "cell_type": "markdown",
      "metadata": {
        "pycharm": {
          "name": "#%% md\n"
        },
        "id": "RelLvzIl6B5S"
      },
      "source": [
        "### Step 6. What is the number of columns in the dataset?"
      ]
    },
    {
      "cell_type": "code",
      "execution_count": null,
      "metadata": {
        "pycharm": {
          "name": "#%%\n"
        },
        "id": "HqP-mt-O6B5S",
        "colab": {
          "base_uri": "https://localhost:8080/"
        },
        "outputId": "b42663fa-22c6-4ea5-e25e-b18ae32adf81"
      },
      "outputs": [
        {
          "output_type": "stream",
          "name": "stdout",
          "text": [
            "Number of columns in the dataset: 163\n"
          ]
        }
      ],
      "source": [
        "num_columns = food.shape[1]\n",
        "print(\"Number of columns in the dataset:\", num_columns)"
      ]
    },
    {
      "cell_type": "markdown",
      "metadata": {
        "pycharm": {
          "name": "#%% md\n"
        },
        "id": "-DGYh-1s6B5S"
      },
      "source": [
        "### Step 7. Print the name of all the columns."
      ]
    },
    {
      "cell_type": "code",
      "execution_count": null,
      "metadata": {
        "collapsed": true,
        "pycharm": {
          "name": "#%%\n"
        },
        "id": "L1Q3qjYJ6B5S",
        "colab": {
          "base_uri": "https://localhost:8080/"
        },
        "outputId": "64451fd2-1889-46db-a5a7-9c911f7699bd"
      },
      "outputs": [
        {
          "output_type": "stream",
          "name": "stdout",
          "text": [
            "Column names in the dataset:\n",
            "code\n",
            "url\n",
            "creator\n",
            "created_t\n",
            "created_datetime\n",
            "last_modified_t\n",
            "last_modified_datetime\n",
            "product_name\n",
            "generic_name\n",
            "quantity\n",
            "packaging\n",
            "packaging_tags\n",
            "brands\n",
            "brands_tags\n",
            "categories\n",
            "categories_tags\n",
            "categories_en\n",
            "origins\n",
            "origins_tags\n",
            "manufacturing_places\n",
            "manufacturing_places_tags\n",
            "labels\n",
            "labels_tags\n",
            "labels_en\n",
            "emb_codes\n",
            "emb_codes_tags\n",
            "first_packaging_code_geo\n",
            "cities\n",
            "cities_tags\n",
            "purchase_places\n",
            "stores\n",
            "countries\n",
            "countries_tags\n",
            "countries_en\n",
            "ingredients_text\n",
            "allergens\n",
            "allergens_en\n",
            "traces\n",
            "traces_tags\n",
            "traces_en\n",
            "serving_size\n",
            "no_nutriments\n",
            "additives_n\n",
            "additives\n",
            "additives_tags\n",
            "additives_en\n",
            "ingredients_from_palm_oil_n\n",
            "ingredients_from_palm_oil\n",
            "ingredients_from_palm_oil_tags\n",
            "ingredients_that_may_be_from_palm_oil_n\n",
            "ingredients_that_may_be_from_palm_oil\n",
            "ingredients_that_may_be_from_palm_oil_tags\n",
            "nutrition_grade_uk\n",
            "nutrition_grade_fr\n",
            "pnns_groups_1\n",
            "pnns_groups_2\n",
            "states\n",
            "states_tags\n",
            "states_en\n",
            "main_category\n",
            "main_category_en\n",
            "image_url\n",
            "image_small_url\n",
            "energy_100g\n",
            "energy-from-fat_100g\n",
            "fat_100g\n",
            "saturated-fat_100g\n",
            "-butyric-acid_100g\n",
            "-caproic-acid_100g\n",
            "-caprylic-acid_100g\n",
            "-capric-acid_100g\n",
            "-lauric-acid_100g\n",
            "-myristic-acid_100g\n",
            "-palmitic-acid_100g\n",
            "-stearic-acid_100g\n",
            "-arachidic-acid_100g\n",
            "-behenic-acid_100g\n",
            "-lignoceric-acid_100g\n",
            "-cerotic-acid_100g\n",
            "-montanic-acid_100g\n",
            "-melissic-acid_100g\n",
            "monounsaturated-fat_100g\n",
            "polyunsaturated-fat_100g\n",
            "omega-3-fat_100g\n",
            "-alpha-linolenic-acid_100g\n",
            "-eicosapentaenoic-acid_100g\n",
            "-docosahexaenoic-acid_100g\n",
            "omega-6-fat_100g\n",
            "-linoleic-acid_100g\n",
            "-arachidonic-acid_100g\n",
            "-gamma-linolenic-acid_100g\n",
            "-dihomo-gamma-linolenic-acid_100g\n",
            "omega-9-fat_100g\n",
            "-oleic-acid_100g\n",
            "-elaidic-acid_100g\n",
            "-gondoic-acid_100g\n",
            "-mead-acid_100g\n",
            "-erucic-acid_100g\n",
            "-nervonic-acid_100g\n",
            "trans-fat_100g\n",
            "cholesterol_100g\n",
            "carbohydrates_100g\n",
            "sugars_100g\n",
            "-sucrose_100g\n",
            "-glucose_100g\n",
            "-fructose_100g\n",
            "-lactose_100g\n",
            "-maltose_100g\n",
            "-maltodextrins_100g\n",
            "starch_100g\n",
            "polyols_100g\n",
            "fiber_100g\n",
            "proteins_100g\n",
            "casein_100g\n",
            "serum-proteins_100g\n",
            "nucleotides_100g\n",
            "salt_100g\n",
            "sodium_100g\n",
            "alcohol_100g\n",
            "vitamin-a_100g\n",
            "beta-carotene_100g\n",
            "vitamin-d_100g\n",
            "vitamin-e_100g\n",
            "vitamin-k_100g\n",
            "vitamin-c_100g\n",
            "vitamin-b1_100g\n",
            "vitamin-b2_100g\n",
            "vitamin-pp_100g\n",
            "vitamin-b6_100g\n",
            "vitamin-b9_100g\n",
            "folates_100g\n",
            "vitamin-b12_100g\n",
            "biotin_100g\n",
            "pantothenic-acid_100g\n",
            "silica_100g\n",
            "bicarbonate_100g\n",
            "potassium_100g\n",
            "chloride_100g\n",
            "calcium_100g\n",
            "phosphorus_100g\n",
            "iron_100g\n",
            "magnesium_100g\n",
            "zinc_100g\n",
            "copper_100g\n",
            "manganese_100g\n",
            "fluoride_100g\n",
            "selenium_100g\n",
            "chromium_100g\n",
            "molybdenum_100g\n",
            "iodine_100g\n",
            "caffeine_100g\n",
            "taurine_100g\n",
            "ph_100g\n",
            "fruits-vegetables-nuts_100g\n",
            "fruits-vegetables-nuts-estimate_100g\n",
            "collagen-meat-protein-ratio_100g\n",
            "cocoa_100g\n",
            "chlorophyl_100g\n",
            "carbon-footprint_100g\n",
            "nutrition-score-fr_100g\n",
            "nutrition-score-uk_100g\n",
            "glycemic-index_100g\n",
            "water-hardness_100g\n"
          ]
        }
      ],
      "source": [
        "column_names = food.columns\n",
        "\n",
        "print(\"Column names in the dataset:\")\n",
        "for column in column_names:\n",
        "    print(column)"
      ]
    },
    {
      "cell_type": "markdown",
      "metadata": {
        "pycharm": {
          "name": "#%% md\n"
        },
        "id": "5HMJEpoF6B5T"
      },
      "source": [
        "### Step 8. What is the name of 105th column?"
      ]
    },
    {
      "cell_type": "code",
      "execution_count": null,
      "metadata": {
        "pycharm": {
          "name": "#%%\n"
        },
        "id": "VwXQgR5Q6B5T",
        "colab": {
          "base_uri": "https://localhost:8080/"
        },
        "outputId": "4ca910dd-1698-4db1-86a8-f51591afe586"
      },
      "outputs": [
        {
          "output_type": "stream",
          "name": "stdout",
          "text": [
            "Name of the 105th column: -glucose_100g\n"
          ]
        }
      ],
      "source": [
        "column_name_105 = food.columns[104]\n",
        "\n",
        "print(\"Name of the 105th column:\", column_name_105)"
      ]
    },
    {
      "cell_type": "markdown",
      "metadata": {
        "pycharm": {
          "name": "#%% md\n"
        },
        "id": "qcd3pgVh6B5T"
      },
      "source": [
        "### Step 9. What is the type of the observations of the 105th column?"
      ]
    },
    {
      "cell_type": "code",
      "execution_count": null,
      "metadata": {
        "collapsed": true,
        "pycharm": {
          "name": "#%%\n"
        },
        "id": "Ak2g2MWH6B5T",
        "colab": {
          "base_uri": "https://localhost:8080/"
        },
        "outputId": "4ece0a67-01ff-4c64-b1b7-ae5e0f07bad0"
      },
      "outputs": [
        {
          "output_type": "stream",
          "name": "stdout",
          "text": [
            "Data type of the observations in the 105th column: float64\n"
          ]
        }
      ],
      "source": [
        "column_105_dtype = food.iloc[:, 104].dtype\n",
        "print(\"Data type of the observations in the 105th column:\", column_105_dtype)"
      ]
    },
    {
      "cell_type": "markdown",
      "metadata": {
        "pycharm": {
          "name": "#%% md\n"
        },
        "id": "HPFouLsj6B5U"
      },
      "source": [
        "### Step 10. How is the dataset indexed?"
      ]
    },
    {
      "cell_type": "code",
      "execution_count": null,
      "metadata": {
        "pycharm": {
          "name": "#%%\n"
        },
        "id": "aTwNHiJ16B5U",
        "colab": {
          "base_uri": "https://localhost:8080/"
        },
        "outputId": "45fd69ad-8a08-4b01-be03-b35138d7eb24"
      },
      "outputs": [
        {
          "output_type": "stream",
          "name": "stdout",
          "text": [
            "Index information of the dataset:\n",
            "RangeIndex(start=0, stop=51179, step=1)\n"
          ]
        }
      ],
      "source": [
        "index_info = food.index\n",
        "print(\"Index information of the dataset:\")\n",
        "print(index_info)"
      ]
    },
    {
      "cell_type": "markdown",
      "metadata": {
        "pycharm": {
          "name": "#%% md\n"
        },
        "id": "eYfidj0M6B5U"
      },
      "source": [
        "### Step 11. What is the product name of the 19th observation?"
      ]
    },
    {
      "cell_type": "code",
      "execution_count": null,
      "metadata": {
        "pycharm": {
          "name": "#%%\n"
        },
        "id": "95zCI67d6B5U",
        "colab": {
          "base_uri": "https://localhost:8080/"
        },
        "outputId": "41d3babe-eeb7-4069-b9ea-608ae70f74e1"
      },
      "outputs": [
        {
          "output_type": "stream",
          "name": "stdout",
          "text": [
            "Product name of the 19th observation: Lotus Organic Brown Jasmine Rice\n"
          ]
        }
      ],
      "source": [
        "product_name_19th_observation = food.loc[18, 'product_name']\n",
        "print(\"Product name of the 19th observation:\", product_name_19th_observation)"
      ]
    }
  ],
  "metadata": {
    "anaconda-cloud": {},
    "kernelspec": {
      "display_name": "Python [default]",
      "language": "python",
      "name": "python2"
    },
    "language_info": {
      "codemirror_mode": {
        "name": "ipython",
        "version": 2
      },
      "file_extension": ".py",
      "mimetype": "text/x-python",
      "name": "python",
      "nbconvert_exporter": "python",
      "pygments_lexer": "ipython2",
      "version": "2.7.12"
    },
    "colab": {
      "provenance": [],
      "include_colab_link": true
    }
  },
  "nbformat": 4,
  "nbformat_minor": 0
}