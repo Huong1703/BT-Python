{
  "cells": [
    {
      "cell_type": "markdown",
      "metadata": {
        "id": "view-in-github",
        "colab_type": "text"
      },
      "source": [
        "<a href=\"https://colab.research.google.com/github/Huong1703/BT-Python/blob/main/Ex06_Housing_Market.ipynb\" target=\"_parent\"><img src=\"https://colab.research.google.com/assets/colab-badge.svg\" alt=\"Open In Colab\"/></a>"
      ]
    },
    {
      "cell_type": "markdown",
      "metadata": {
        "pycharm": {
          "name": "#%% md\n"
        },
        "id": "owoSpjcHX4zN"
      },
      "source": [
        "# Housing Market"
      ]
    },
    {
      "cell_type": "markdown",
      "metadata": {
        "pycharm": {
          "name": "#%% md\n"
        },
        "id": "WcU_DOcJX4zQ"
      },
      "source": [
        "### Introduction:\n",
        "\n",
        "This time we will create our own dataset with fictional numbers to describe a house market. As we are going to create random data don't try to reason of the numbers.\n",
        "\n",
        "### Step 1. Import the necessary libraries"
      ]
    },
    {
      "cell_type": "code",
      "execution_count": 3,
      "metadata": {
        "pycharm": {
          "name": "#%%\n"
        },
        "id": "2hPU4XEQX4zQ"
      },
      "outputs": [],
      "source": [
        "import pandas as pd\n",
        "import random"
      ]
    },
    {
      "cell_type": "markdown",
      "metadata": {
        "pycharm": {
          "name": "#%% md\n"
        },
        "id": "hi7yHcdsX4zR"
      },
      "source": [
        "### Step 2. Create 3 differents Series, each of length 100, as follows:\n",
        "1. The first a random number from 1 to 4\n",
        "2. The second a random number from 1 to 3\n",
        "3. The third a random number from 10,000 to 30,000"
      ]
    },
    {
      "cell_type": "code",
      "execution_count": 7,
      "metadata": {
        "pycharm": {
          "name": "#%%\n"
        },
        "id": "OSx9F8-eX4zR",
        "colab": {
          "base_uri": "https://localhost:8080/"
        },
        "outputId": "7d556889-5a14-4522-afb1-54b4fe11ce0f"
      },
      "outputs": [
        {
          "output_type": "stream",
          "name": "stdout",
          "text": [
            "Series 1:\n",
            "0    1\n",
            "1    1\n",
            "2    3\n",
            "3    2\n",
            "4    2\n",
            "dtype: int64\n",
            "\n",
            "Series 2:\n",
            "0    2\n",
            "1    3\n",
            "2    2\n",
            "3    3\n",
            "4    2\n",
            "dtype: int64\n",
            "\n",
            "Series 3:\n",
            "0    20827\n",
            "1    12321\n",
            "2    26847\n",
            "3    17798\n",
            "4    19125\n",
            "dtype: int64\n"
          ]
        }
      ],
      "source": [
        "random.seed(42)\n",
        "\n",
        "series1 = pd.Series([random.randint(1, 4) for _ in range(100)])\n",
        "series2 = pd.Series([random.randint(1, 3) for _ in range(100)])\n",
        "series3 = pd.Series([random.randint(10000, 30000) for _ in range(100)])\n",
        "\n",
        "print(\"Series 1:\")\n",
        "print(series1.head())\n",
        "\n",
        "print(\"\\nSeries 2:\")\n",
        "print(series2.head())\n",
        "\n",
        "print(\"\\nSeries 3:\")\n",
        "print(series3.head())"
      ]
    },
    {
      "cell_type": "markdown",
      "metadata": {
        "pycharm": {
          "name": "#%% md\n"
        },
        "id": "hItUbblnX4zS"
      },
      "source": [
        "### Step 3. Let's create a DataFrame by joinning the Series by column"
      ]
    },
    {
      "cell_type": "code",
      "execution_count": 9,
      "metadata": {
        "pycharm": {
          "name": "#%%\n"
        },
        "id": "qbRuACtYX4zS",
        "colab": {
          "base_uri": "https://localhost:8080/"
        },
        "outputId": "b557b4b9-1683-4021-cac2-2bd8d06d0be8"
      },
      "outputs": [
        {
          "output_type": "stream",
          "name": "stdout",
          "text": [
            "DataFrame:\n",
            "    Column1  Column2  Column3\n",
            "0         1        2    20827\n",
            "1         1        3    12321\n",
            "2         3        2    26847\n",
            "3         2        3    17798\n",
            "4         2        2    19125\n",
            "..      ...      ...      ...\n",
            "95        2        3    29481\n",
            "96        2        1    11302\n",
            "97        4        1    12686\n",
            "98        1        1    23737\n",
            "99        4        1    29125\n",
            "\n",
            "[100 rows x 3 columns]\n"
          ]
        }
      ],
      "source": [
        "df = pd.DataFrame({'Column1': series1, 'Column2': series2, 'Column3': series3})\n",
        "\n",
        "print(\"DataFrame:\")\n",
        "print(df)"
      ]
    },
    {
      "cell_type": "markdown",
      "metadata": {
        "pycharm": {
          "name": "#%% md\n"
        },
        "id": "nFNrcYfIX4zS"
      },
      "source": [
        "### Step 4. Change the name of the columns to bedrs, bathrs, price_sqr_meter"
      ]
    },
    {
      "cell_type": "code",
      "execution_count": 11,
      "metadata": {
        "pycharm": {
          "name": "#%%\n"
        },
        "id": "gA9Gr-NCX4zS",
        "colab": {
          "base_uri": "https://localhost:8080/"
        },
        "outputId": "0dfec83d-2561-4190-d5c7-c55ef8511671"
      },
      "outputs": [
        {
          "output_type": "stream",
          "name": "stdout",
          "text": [
            "DataFrame with updated column names:\n",
            "    bedrs  bathrs  price_sqr_meter\n",
            "0       1       2            20827\n",
            "1       1       3            12321\n",
            "2       3       2            26847\n",
            "3       2       3            17798\n",
            "4       2       2            19125\n",
            "..    ...     ...              ...\n",
            "95      2       3            29481\n",
            "96      2       1            11302\n",
            "97      4       1            12686\n",
            "98      1       1            23737\n",
            "99      4       1            29125\n",
            "\n",
            "[100 rows x 3 columns]\n"
          ]
        }
      ],
      "source": [
        "df.rename(columns={'Column1': 'bedrs', 'Column2': 'bathrs', 'Column3': 'price_sqr_meter'}, inplace=True)\n",
        "\n",
        "print(\"DataFrame with updated column names:\")\n",
        "print(df)"
      ]
    },
    {
      "cell_type": "markdown",
      "metadata": {
        "pycharm": {
          "name": "#%% md\n"
        },
        "id": "1zjzpa4rX4zT"
      },
      "source": [
        "### Step 5. Create a one column DataFrame with the values of the 3 Series and assign it to 'bigcolumn'"
      ]
    },
    {
      "cell_type": "code",
      "execution_count": 14,
      "metadata": {
        "pycharm": {
          "name": "#%%\n"
        },
        "id": "20P6E19SX4zT",
        "colab": {
          "base_uri": "https://localhost:8080/"
        },
        "outputId": "df69fd75-2fe3-4ae6-bb54-3aae5f75ecaa"
      },
      "outputs": [
        {
          "output_type": "stream",
          "name": "stdout",
          "text": [
            "    bigcolumn\n",
            "0           1\n",
            "1           1\n",
            "2           3\n",
            "3           2\n",
            "4           2\n",
            "..        ...\n",
            "95      29481\n",
            "96      11302\n",
            "97      12686\n",
            "98      23737\n",
            "99      29125\n",
            "\n",
            "[300 rows x 1 columns]\n"
          ]
        }
      ],
      "source": [
        "bigcolumn = pd.concat([series1, series2, series3], axis=0)\n",
        "df_bigcolumn = pd.DataFrame({'bigcolumn': bigcolumn})\n",
        "\n",
        "print(df_bigcolumn)"
      ]
    },
    {
      "cell_type": "markdown",
      "metadata": {
        "pycharm": {
          "name": "#%% md\n"
        },
        "id": "w16OnIhhX4zT"
      },
      "source": [
        "### Step 6. Oops, it seems it is going only until index 99. Is it true?"
      ]
    },
    {
      "cell_type": "code",
      "execution_count": 23,
      "metadata": {
        "pycharm": {
          "name": "#%%\n"
        },
        "id": "LKCG2LHaX4zT",
        "colab": {
          "base_uri": "https://localhost:8080/"
        },
        "outputId": "12c32420-9efa-4f45-9ea5-855c50fe71b8"
      },
      "outputs": [
        {
          "output_type": "stream",
          "name": "stdout",
          "text": [
            "     bigcolumn\n",
            "0            1\n",
            "1            1\n",
            "2            3\n",
            "3            2\n",
            "4            2\n",
            "..         ...\n",
            "295      29481\n",
            "296      11302\n",
            "297      12686\n",
            "298      23737\n",
            "299      29125\n",
            "\n",
            "[300 rows x 1 columns]\n"
          ]
        }
      ],
      "source": [
        "bigcolumn = pd.concat([series1, series2, series3], axis=0, ignore_index=True)\n",
        "df_bigcolumn = pd.DataFrame({'bigcolumn': bigcolumn})\n",
        "\n",
        "print(df_bigcolumn)\n"
      ]
    },
    {
      "cell_type": "markdown",
      "metadata": {
        "pycharm": {
          "name": "#%% md\n"
        },
        "id": "ktKwc5luX4zT"
      },
      "source": [
        "### Step 7. Reindex the DataFrame so it goes from 0 to 299"
      ]
    },
    {
      "cell_type": "code",
      "execution_count": 25,
      "metadata": {
        "pycharm": {
          "name": "#%%\n"
        },
        "id": "iopRW2bVX4zU",
        "colab": {
          "base_uri": "https://localhost:8080/"
        },
        "outputId": "a4ab9191-ebab-484e-fba6-4b7eabb62ad6"
      },
      "outputs": [
        {
          "output_type": "stream",
          "name": "stdout",
          "text": [
            "     bigcolumn\n",
            "0            1\n",
            "1            1\n",
            "2            3\n",
            "3            2\n",
            "4            2\n",
            "..         ...\n",
            "295      29481\n",
            "296      11302\n",
            "297      12686\n",
            "298      23737\n",
            "299      29125\n",
            "\n",
            "[300 rows x 1 columns]\n"
          ]
        }
      ],
      "source": [
        "df_bigcolumn = df_bigcolumn.reset_index(drop=True)\n",
        "\n",
        "print(df_bigcolumn)"
      ]
    }
  ],
  "metadata": {
    "kernelspec": {
      "display_name": "Python 2",
      "language": "python",
      "name": "python2"
    },
    "language_info": {
      "codemirror_mode": {
        "name": "ipython",
        "version": 2
      },
      "file_extension": ".py",
      "mimetype": "text/x-python",
      "name": "python",
      "nbconvert_exporter": "python",
      "pygments_lexer": "ipython2",
      "version": "2.7.11"
    },
    "colab": {
      "provenance": [],
      "include_colab_link": true
    }
  },
  "nbformat": 4,
  "nbformat_minor": 0
}