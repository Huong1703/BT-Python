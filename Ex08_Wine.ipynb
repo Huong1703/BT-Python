{
  "cells": [
    {
      "cell_type": "markdown",
      "metadata": {
        "id": "view-in-github",
        "colab_type": "text"
      },
      "source": [
        "<a href=\"https://colab.research.google.com/github/Huong1703/BT-Python/blob/main/Ex08_Wine.ipynb\" target=\"_parent\"><img src=\"https://colab.research.google.com/assets/colab-badge.svg\" alt=\"Open In Colab\"/></a>"
      ]
    },
    {
      "cell_type": "markdown",
      "metadata": {
        "pycharm": {
          "name": "#%% md\n"
        },
        "id": "syaoMW-8Z6f8"
      },
      "source": [
        "# Wine"
      ]
    },
    {
      "cell_type": "markdown",
      "metadata": {
        "pycharm": {
          "name": "#%% md\n"
        },
        "id": "RSId54rdZ6f_"
      },
      "source": [
        "### Introduction:\n",
        "\n",
        "This exercise is a adaptation from the UCI Wine dataset.\n",
        "The only pupose is to practice deleting data with pandas.\n",
        "\n",
        "### Step 1. Import the necessary libraries"
      ]
    },
    {
      "cell_type": "code",
      "execution_count": 49,
      "metadata": {
        "pycharm": {
          "name": "#%%\n"
        },
        "id": "KKGfrZM6Z6f_"
      },
      "outputs": [],
      "source": [
        "import pandas as pd\n",
        "import requests\n",
        "import numpy as np"
      ]
    },
    {
      "cell_type": "markdown",
      "metadata": {
        "pycharm": {
          "name": "#%% md\n"
        },
        "id": "4lni6QaRZ6gA"
      },
      "source": [
        "### Step 2. Import the dataset from this [address](https://archive.ics.uci.edu/ml/machine-learning-databases/wine/wine.data)."
      ]
    },
    {
      "cell_type": "markdown",
      "metadata": {
        "pycharm": {
          "name": "#%% md\n"
        },
        "id": "ViDh8WInZ6gA"
      },
      "source": [
        "### Step 3. Assign it to a variable called wine"
      ]
    },
    {
      "cell_type": "code",
      "execution_count": 50,
      "metadata": {
        "pycharm": {
          "name": "#%%\n"
        },
        "id": "Cs1SJOydZ6gA",
        "colab": {
          "base_uri": "https://localhost:8080/"
        },
        "outputId": "392dd3c4-be63-4639-94c9-fe77f0077e73"
      },
      "outputs": [
        {
          "output_type": "stream",
          "name": "stdout",
          "text": [
            "     1  14.23  1.71  2.43  15.6  127   2.8  3.06   .28  2.29   5.64  1.04  \\\n",
            "0    1  13.20  1.78  2.14  11.2  100  2.65  2.76  0.26  1.28   4.38  1.05   \n",
            "1    1  13.16  2.36  2.67  18.6  101  2.80  3.24  0.30  2.81   5.68  1.03   \n",
            "2    1  14.37  1.95  2.50  16.8  113  3.85  3.49  0.24  2.18   7.80  0.86   \n",
            "3    1  13.24  2.59  2.87  21.0  118  2.80  2.69  0.39  1.82   4.32  1.04   \n",
            "4    1  14.20  1.76  2.45  15.2  112  3.27  3.39  0.34  1.97   6.75  1.05   \n",
            "..  ..    ...   ...   ...   ...  ...   ...   ...   ...   ...    ...   ...   \n",
            "172  3  13.71  5.65  2.45  20.5   95  1.68  0.61  0.52  1.06   7.70  0.64   \n",
            "173  3  13.40  3.91  2.48  23.0  102  1.80  0.75  0.43  1.41   7.30  0.70   \n",
            "174  3  13.27  4.28  2.26  20.0  120  1.59  0.69  0.43  1.35  10.20  0.59   \n",
            "175  3  13.17  2.59  2.37  20.0  120  1.65  0.68  0.53  1.46   9.30  0.60   \n",
            "176  3  14.13  4.10  2.74  24.5   96  2.05  0.76  0.56  1.35   9.20  0.61   \n",
            "\n",
            "     3.92  1065  \n",
            "0    3.40  1050  \n",
            "1    3.17  1185  \n",
            "2    3.45  1480  \n",
            "3    2.93   735  \n",
            "4    2.85  1450  \n",
            "..    ...   ...  \n",
            "172  1.74   740  \n",
            "173  1.56   750  \n",
            "174  1.56   835  \n",
            "175  1.62   840  \n",
            "176  1.60   560  \n",
            "\n",
            "[177 rows x 14 columns]\n"
          ]
        }
      ],
      "source": [
        "wine = pd.read_csv('https://archive.ics.uci.edu/ml/machine-learning-databases/wine/wine.data', sep=',')\n",
        "print(wine)"
      ]
    },
    {
      "cell_type": "markdown",
      "metadata": {
        "pycharm": {
          "name": "#%% md\n"
        },
        "id": "XnhXSNihZ6gB"
      },
      "source": [
        "### Step 4. Delete the first, fourth, seventh, nineth, eleventh, thirteenth and fourteenth columns"
      ]
    },
    {
      "cell_type": "code",
      "execution_count": 51,
      "metadata": {
        "pycharm": {
          "name": "#%%\n"
        },
        "id": "NcT14-hVZ6gB",
        "colab": {
          "base_uri": "https://localhost:8080/"
        },
        "outputId": "b29378ae-848e-4994-d532-10085c9f0b82"
      },
      "outputs": [
        {
          "output_type": "stream",
          "name": "stdout",
          "text": [
            "     14.23  1.71  15.6  127  3.06  2.29  1.04\n",
            "0    13.20  1.78  11.2  100  2.76  1.28  1.05\n",
            "1    13.16  2.36  18.6  101  3.24  2.81  1.03\n",
            "2    14.37  1.95  16.8  113  3.49  2.18  0.86\n",
            "3    13.24  2.59  21.0  118  2.69  1.82  1.04\n",
            "4    14.20  1.76  15.2  112  3.39  1.97  1.05\n",
            "..     ...   ...   ...  ...   ...   ...   ...\n",
            "172  13.71  5.65  20.5   95  0.61  1.06  0.64\n",
            "173  13.40  3.91  23.0  102  0.75  1.41  0.70\n",
            "174  13.27  4.28  20.0  120  0.69  1.35  0.59\n",
            "175  13.17  2.59  20.0  120  0.68  1.46  0.60\n",
            "176  14.13  4.10  24.5   96  0.76  1.35  0.61\n",
            "\n",
            "[177 rows x 7 columns]\n"
          ]
        }
      ],
      "source": [
        "wine = wine.drop(wine.columns[[0, 3, 6, 8, 10, 12, 13]], axis=1)\n",
        "print(wine)"
      ]
    },
    {
      "cell_type": "markdown",
      "metadata": {
        "pycharm": {
          "name": "#%% md\n"
        },
        "id": "-K_UmnrIZ6gB"
      },
      "source": [
        "### Step 5. Assign the columns as below:\n",
        "\n",
        "The attributes are (donated by Riccardo Leardi, riclea '@' anchem.unige.it):  \n",
        "1) alcohol  \n",
        "2) malic_acid  \n",
        "3) alcalinity_of_ash  \n",
        "4) magnesium  \n",
        "5) flavanoids  \n",
        "6) proanthocyanins  \n",
        "7) hue"
      ]
    },
    {
      "cell_type": "code",
      "execution_count": 52,
      "metadata": {
        "pycharm": {
          "name": "#%%\n"
        },
        "id": "rE8UImhVZ6gB",
        "colab": {
          "base_uri": "https://localhost:8080/"
        },
        "outputId": "8b3cef15-b6fe-4284-d775-34a74801bb9f"
      },
      "outputs": [
        {
          "output_type": "stream",
          "name": "stdout",
          "text": [
            "     alcohol  malic_acid  alcalinity_of_ash  magnesium  flavanoids  \\\n",
            "0      13.20        1.78               11.2        100        2.76   \n",
            "1      13.16        2.36               18.6        101        3.24   \n",
            "2      14.37        1.95               16.8        113        3.49   \n",
            "3      13.24        2.59               21.0        118        2.69   \n",
            "4      14.20        1.76               15.2        112        3.39   \n",
            "..       ...         ...                ...        ...         ...   \n",
            "172    13.71        5.65               20.5         95        0.61   \n",
            "173    13.40        3.91               23.0        102        0.75   \n",
            "174    13.27        4.28               20.0        120        0.69   \n",
            "175    13.17        2.59               20.0        120        0.68   \n",
            "176    14.13        4.10               24.5         96        0.76   \n",
            "\n",
            "     proanthocyanins   hue  \n",
            "0               1.28  1.05  \n",
            "1               2.81  1.03  \n",
            "2               2.18  0.86  \n",
            "3               1.82  1.04  \n",
            "4               1.97  1.05  \n",
            "..               ...   ...  \n",
            "172             1.06  0.64  \n",
            "173             1.41  0.70  \n",
            "174             1.35  0.59  \n",
            "175             1.46  0.60  \n",
            "176             1.35  0.61  \n",
            "\n",
            "[177 rows x 7 columns]\n"
          ]
        }
      ],
      "source": [
        "wine.columns = ['alcohol', 'malic_acid', 'alcalinity_of_ash', 'magnesium', 'flavanoids', 'proanthocyanins', 'hue']\n",
        "print(wine)"
      ]
    },
    {
      "cell_type": "markdown",
      "metadata": {
        "pycharm": {
          "name": "#%% md\n"
        },
        "id": "GnK_DQM1Z6gB"
      },
      "source": [
        "### Step 6. Set the values of the first 3 rows from alcohol as NaN"
      ]
    },
    {
      "cell_type": "code",
      "execution_count": 53,
      "metadata": {
        "pycharm": {
          "name": "#%%\n"
        },
        "id": "z-8K91sSZ6gC",
        "colab": {
          "base_uri": "https://localhost:8080/"
        },
        "outputId": "ddde1649-160c-40d8-f188-bbd682a193e4"
      },
      "outputs": [
        {
          "output_type": "stream",
          "name": "stdout",
          "text": [
            "     alcohol  malic_acid  alcalinity_of_ash  magnesium  flavanoids  \\\n",
            "0        NaN        1.78               11.2        100        2.76   \n",
            "1        NaN        2.36               18.6        101        3.24   \n",
            "2        NaN        1.95               16.8        113        3.49   \n",
            "3      13.24        2.59               21.0        118        2.69   \n",
            "4      14.20        1.76               15.2        112        3.39   \n",
            "..       ...         ...                ...        ...         ...   \n",
            "172    13.71        5.65               20.5         95        0.61   \n",
            "173    13.40        3.91               23.0        102        0.75   \n",
            "174    13.27        4.28               20.0        120        0.69   \n",
            "175    13.17        2.59               20.0        120        0.68   \n",
            "176    14.13        4.10               24.5         96        0.76   \n",
            "\n",
            "     proanthocyanins   hue  \n",
            "0               1.28  1.05  \n",
            "1               2.81  1.03  \n",
            "2               2.18  0.86  \n",
            "3               1.82  1.04  \n",
            "4               1.97  1.05  \n",
            "..               ...   ...  \n",
            "172             1.06  0.64  \n",
            "173             1.41  0.70  \n",
            "174             1.35  0.59  \n",
            "175             1.46  0.60  \n",
            "176             1.35  0.61  \n",
            "\n",
            "[177 rows x 7 columns]\n"
          ]
        }
      ],
      "source": [
        "wine.loc[:2, 'alcohol'] = None\n",
        "print(wine)"
      ]
    },
    {
      "cell_type": "markdown",
      "metadata": {
        "pycharm": {
          "name": "#%% md\n"
        },
        "id": "tR3cZbJzZ6gC"
      },
      "source": [
        "### Step 7. Now set the value of the rows 3 and 4 of magnesium as NaN"
      ]
    },
    {
      "cell_type": "code",
      "execution_count": 44,
      "metadata": {
        "pycharm": {
          "name": "#%%\n"
        },
        "id": "n37XF7RvZ6gC",
        "colab": {
          "base_uri": "https://localhost:8080/"
        },
        "outputId": "e74f9b0c-b8a7-42e2-d7c2-e94bf94ff585"
      },
      "outputs": [
        {
          "output_type": "stream",
          "name": "stdout",
          "text": [
            "     alcohol  malic_acid  alcalinity_of_ash  magnesium  flavanoids  \\\n",
            "0      10.00        1.78               11.2      100.0        2.76   \n",
            "1      10.00        2.36               18.6      101.0        3.24   \n",
            "2      10.00        1.95               16.8        NaN        3.49   \n",
            "3      13.24        2.59               21.0        NaN        2.69   \n",
            "4      14.20        1.76               15.2      112.0        3.39   \n",
            "..       ...         ...                ...        ...         ...   \n",
            "172    13.71        5.65               20.5       95.0        0.61   \n",
            "173    13.40        3.91               23.0      102.0        0.75   \n",
            "174    13.27        4.28               20.0      120.0        0.69   \n",
            "175    13.17        2.59               20.0      120.0        0.68   \n",
            "176    14.13        4.10               24.5       96.0        0.76   \n",
            "\n",
            "     proanthocyanins   hue  \n",
            "0               1.28  1.05  \n",
            "1               2.81  1.03  \n",
            "2               2.18  0.86  \n",
            "3               1.82  1.04  \n",
            "4               1.97  1.05  \n",
            "..               ...   ...  \n",
            "172             1.06  0.64  \n",
            "173             1.41  0.70  \n",
            "174             1.35  0.59  \n",
            "175             1.46  0.60  \n",
            "176             1.35  0.61  \n",
            "\n",
            "[177 rows x 7 columns]\n"
          ]
        }
      ],
      "source": [
        "wine.loc[2:3, 'magnesium'] = None\n",
        "print(wine)"
      ]
    },
    {
      "cell_type": "markdown",
      "metadata": {
        "pycharm": {
          "name": "#%% md\n"
        },
        "id": "cDrj8BzuZ6gC"
      },
      "source": [
        "### Step 8. Fill the value of NaN with the number 10 in alcohol and 100 in magnesium"
      ]
    },
    {
      "cell_type": "code",
      "execution_count": 34,
      "metadata": {
        "pycharm": {
          "name": "#%%\n"
        },
        "id": "Eg126VQUZ6gC",
        "colab": {
          "base_uri": "https://localhost:8080/"
        },
        "outputId": "412c4ccb-1a93-4791-8d63-9ee8f7189ef0"
      },
      "outputs": [
        {
          "output_type": "stream",
          "name": "stdout",
          "text": [
            "     alcohol  malic_acid  alcalinity_of_ash  magnesium  flavanoids  \\\n",
            "0      10.00        1.78               11.2      100.0        2.76   \n",
            "1      10.00        2.36               18.6      101.0        3.24   \n",
            "2      10.00        1.95               16.8      100.0        3.49   \n",
            "3      13.24        2.59               21.0      100.0        2.69   \n",
            "4      14.20        1.76               15.2      112.0        3.39   \n",
            "..       ...         ...                ...        ...         ...   \n",
            "172    13.71        5.65               20.5       95.0        0.61   \n",
            "173    13.40        3.91               23.0      102.0        0.75   \n",
            "174    13.27        4.28               20.0      120.0        0.69   \n",
            "175    13.17        2.59               20.0      120.0        0.68   \n",
            "176    14.13        4.10               24.5       96.0        0.76   \n",
            "\n",
            "     proanthocyanins   hue  \n",
            "0               1.28  1.05  \n",
            "1               2.81  1.03  \n",
            "2               2.18  0.86  \n",
            "3               1.82  1.04  \n",
            "4               1.97  1.05  \n",
            "..               ...   ...  \n",
            "172             1.06  0.64  \n",
            "173             1.41  0.70  \n",
            "174             1.35  0.59  \n",
            "175             1.46  0.60  \n",
            "176             1.35  0.61  \n",
            "\n",
            "[177 rows x 7 columns]\n"
          ]
        }
      ],
      "source": [
        "wine['alcohol'].fillna(10, inplace=True)\n",
        "wine['magnesium'].fillna(100, inplace=True)\n",
        "print(wine)"
      ]
    },
    {
      "cell_type": "markdown",
      "metadata": {
        "pycharm": {
          "name": "#%% md\n"
        },
        "id": "UM9bkMJRZ6gD"
      },
      "source": [
        "### Step 9. Count the number of missing values"
      ]
    },
    {
      "cell_type": "code",
      "execution_count": 35,
      "metadata": {
        "pycharm": {
          "name": "#%%\n"
        },
        "id": "xBDWItjPZ6gD",
        "colab": {
          "base_uri": "https://localhost:8080/"
        },
        "outputId": "0ca881aa-208d-43a7-cbf7-49d887dcb7f6"
      },
      "outputs": [
        {
          "output_type": "stream",
          "name": "stdout",
          "text": [
            "alcohol              0\n",
            "malic_acid           0\n",
            "alcalinity_of_ash    0\n",
            "magnesium            0\n",
            "flavanoids           0\n",
            "proanthocyanins      0\n",
            "hue                  0\n",
            "dtype: int64\n"
          ]
        }
      ],
      "source": [
        "missing_values = wine.isna().sum()\n",
        "print(missing_values)"
      ]
    },
    {
      "cell_type": "markdown",
      "metadata": {
        "pycharm": {
          "name": "#%% md\n"
        },
        "id": "Hxt9VP0QZ6gD"
      },
      "source": [
        "### Step 10.  Create an array of 10 random numbers up until 10"
      ]
    },
    {
      "cell_type": "code",
      "execution_count": 36,
      "metadata": {
        "pycharm": {
          "name": "#%%\n"
        },
        "id": "fO7s1ud5Z6gD",
        "colab": {
          "base_uri": "https://localhost:8080/"
        },
        "outputId": "ab4adcba-8744-442e-ac24-d8b36dd122cd"
      },
      "outputs": [
        {
          "output_type": "stream",
          "name": "stdout",
          "text": [
            "[9 5 4 7 9 5 5 4 8 9]\n"
          ]
        }
      ],
      "source": [
        "random_numbers = np.random.randint(10, size=10)\n",
        "print(random_numbers)"
      ]
    },
    {
      "cell_type": "markdown",
      "metadata": {
        "pycharm": {
          "name": "#%% md\n"
        },
        "id": "6TxRx_tYZ6gD"
      },
      "source": [
        "### Step 11.  Use random numbers you generated as an index and assign NaN value to each of cell."
      ]
    },
    {
      "cell_type": "code",
      "execution_count": 37,
      "metadata": {
        "pycharm": {
          "name": "#%%\n"
        },
        "id": "Lh4qKhqKZ6gD",
        "colab": {
          "base_uri": "https://localhost:8080/"
        },
        "outputId": "ba3df003-6daf-40be-e7f6-6990562995e0"
      },
      "outputs": [
        {
          "output_type": "stream",
          "name": "stdout",
          "text": [
            "     A\n",
            "0  1.0\n",
            "1  2.0\n",
            "2  3.0\n",
            "3  4.0\n",
            "4  NaN\n",
            "5  NaN\n",
            "6  7.0\n",
            "7  NaN\n",
            "8  NaN\n",
            "9  NaN\n"
          ]
        }
      ],
      "source": [
        "data = {'A': [1, 2, 3, 4, 5, 6, 7, 8, 9, 10]}\n",
        "df = pd.DataFrame(data)\n",
        "\n",
        "df.iloc[random_numbers, 0] = np.nan\n",
        "\n",
        "print(df)"
      ]
    },
    {
      "cell_type": "markdown",
      "metadata": {
        "pycharm": {
          "name": "#%% md\n"
        },
        "id": "C4pHOZpjZ6gE"
      },
      "source": [
        "### Step 12.  How many missing values do we have?"
      ]
    },
    {
      "cell_type": "code",
      "execution_count": 38,
      "metadata": {
        "pycharm": {
          "name": "#%%\n"
        },
        "id": "R_6QOVACZ6gE",
        "colab": {
          "base_uri": "https://localhost:8080/"
        },
        "outputId": "a08ba51d-50ec-4f32-9fc0-39803a8b949b"
      },
      "outputs": [
        {
          "output_type": "stream",
          "name": "stdout",
          "text": [
            "Number of missing values: 5\n"
          ]
        }
      ],
      "source": [
        "missing_values = df['A'].isnull().sum()\n",
        "print(\"Number of missing values:\", missing_values)"
      ]
    },
    {
      "cell_type": "markdown",
      "metadata": {
        "pycharm": {
          "name": "#%% md\n"
        },
        "id": "4RNi6GW8Z6gE"
      },
      "source": [
        "### Step 13. Delete the rows that contain missing values"
      ]
    },
    {
      "cell_type": "code",
      "execution_count": 57,
      "metadata": {
        "pycharm": {
          "name": "#%%\n"
        },
        "id": "hlBWdOUPZ6gE",
        "colab": {
          "base_uri": "https://localhost:8080/"
        },
        "outputId": "e65e9d70-b9b3-41ca-c0a9-c517a6fda2be"
      },
      "outputs": [
        {
          "output_type": "stream",
          "name": "stdout",
          "text": [
            "     A\n",
            "0  1.0\n",
            "1  2.0\n",
            "2  3.0\n",
            "3  4.0\n",
            "6  7.0\n"
          ]
        }
      ],
      "source": [
        "df = df.dropna(subset=['A'])\n",
        "print(df)"
      ]
    },
    {
      "cell_type": "markdown",
      "metadata": {
        "pycharm": {
          "name": "#%% md\n"
        },
        "id": "NYU85vDbZ6gE"
      },
      "source": [
        "### Step 14. Print only the non-null values in alcohol"
      ]
    },
    {
      "cell_type": "code",
      "execution_count": 56,
      "metadata": {
        "pycharm": {
          "name": "#%%\n"
        },
        "id": "_wlcpf4LZ6gE",
        "colab": {
          "base_uri": "https://localhost:8080/"
        },
        "outputId": "998b7f0d-e640-4441-ec28-0ba54859318e"
      },
      "outputs": [
        {
          "output_type": "stream",
          "name": "stdout",
          "text": [
            "3      13.24\n",
            "4      14.20\n",
            "5      14.39\n",
            "6      14.06\n",
            "7      14.83\n",
            "       ...  \n",
            "172    13.71\n",
            "173    13.40\n",
            "174    13.27\n",
            "175    13.17\n",
            "176    14.13\n",
            "Name: alcohol, Length: 174, dtype: float64\n"
          ]
        }
      ],
      "source": [
        "print(wine['alcohol'].dropna())"
      ]
    },
    {
      "cell_type": "code",
      "execution_count": null,
      "metadata": {
        "collapsed": true,
        "pycharm": {
          "name": "#%%\n"
        },
        "id": "UWH17sNnZ6gE"
      },
      "outputs": [],
      "source": []
    },
    {
      "cell_type": "markdown",
      "metadata": {
        "pycharm": {
          "name": "#%% md\n"
        },
        "id": "XxZfCEdvZ6gE"
      },
      "source": [
        "### Step 15.  Reset the index, so it starts with 0 again"
      ]
    },
    {
      "cell_type": "code",
      "execution_count": 59,
      "metadata": {
        "pycharm": {
          "name": "#%%\n"
        },
        "id": "jYmWxrLMZ6gF",
        "colab": {
          "base_uri": "https://localhost:8080/"
        },
        "outputId": "f0eed7ae-c08e-4a3d-9349-240ae87c3c4b"
      },
      "outputs": [
        {
          "output_type": "stream",
          "name": "stdout",
          "text": [
            "0      13.24\n",
            "1      14.20\n",
            "2      14.39\n",
            "3      14.06\n",
            "4      14.83\n",
            "       ...  \n",
            "169    13.71\n",
            "170    13.40\n",
            "171    13.27\n",
            "172    13.17\n",
            "173    14.13\n",
            "Name: alcohol, Length: 174, dtype: float64\n"
          ]
        }
      ],
      "source": [
        "wine_reset_index = wine['alcohol'].dropna().reset_index(drop=True)\n",
        "print(wine_reset_index)"
      ]
    },
    {
      "cell_type": "markdown",
      "metadata": {
        "pycharm": {
          "name": "#%% md\n"
        },
        "id": "Ew7H6mU4Z6gF"
      },
      "source": [
        "### BONUS: Create your own question and answer it."
      ]
    },
    {
      "cell_type": "code",
      "execution_count": null,
      "metadata": {
        "collapsed": true,
        "pycharm": {
          "name": "#%%\n"
        },
        "id": "Z3SY7fubZ6gF"
      },
      "outputs": [],
      "source": []
    }
  ],
  "metadata": {
    "kernelspec": {
      "display_name": "Python [default]",
      "language": "python",
      "name": "python2"
    },
    "language_info": {
      "codemirror_mode": {
        "name": "ipython",
        "version": 2
      },
      "file_extension": ".py",
      "mimetype": "text/x-python",
      "name": "python",
      "nbconvert_exporter": "python",
      "pygments_lexer": "ipython2",
      "version": "2.7.12"
    },
    "colab": {
      "provenance": [],
      "include_colab_link": true
    }
  },
  "nbformat": 4,
  "nbformat_minor": 0
}