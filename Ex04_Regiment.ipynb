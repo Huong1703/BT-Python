{
  "cells": [
    {
      "cell_type": "markdown",
      "metadata": {
        "id": "view-in-github",
        "colab_type": "text"
      },
      "source": [
        "<a href=\"https://colab.research.google.com/github/Huong1703/BT-Python/blob/main/Ex04_Regiment.ipynb\" target=\"_parent\"><img src=\"https://colab.research.google.com/assets/colab-badge.svg\" alt=\"Open In Colab\"/></a>"
      ]
    },
    {
      "cell_type": "markdown",
      "metadata": {
        "pycharm": {
          "name": "#%% md\n"
        },
        "id": "C1qS6OM73Lxl"
      },
      "source": [
        "# Regiment"
      ]
    },
    {
      "cell_type": "markdown",
      "metadata": {
        "pycharm": {
          "name": "#%% md\n"
        },
        "id": "73OtqI0i3Lxp"
      },
      "source": [
        "### Introduction:\n",
        "\n",
        "Special thanks to: http://chrisalbon.com/ for sharing the dataset and materials.\n",
        "\n",
        "### Step 1. Import the necessary libraries"
      ]
    },
    {
      "cell_type": "code",
      "execution_count": null,
      "metadata": {
        "pycharm": {
          "name": "#%%\n"
        },
        "id": "nCKEypiB3Lxq"
      },
      "outputs": [],
      "source": [
        "import pandas as pd\n",
        "import requests"
      ]
    },
    {
      "cell_type": "markdown",
      "metadata": {
        "pycharm": {
          "name": "#%% md\n"
        },
        "id": "Q3_fKDoN3Lxr"
      },
      "source": [
        "### Step 2. Create the DataFrame with the following values:"
      ]
    },
    {
      "cell_type": "code",
      "execution_count": null,
      "metadata": {
        "collapsed": true,
        "pycharm": {
          "name": "#%%\n"
        },
        "id": "jipV_BIX3Lxs"
      },
      "outputs": [],
      "source": [
        "raw_data = {'regiment': ['Nighthawks', 'Nighthawks', 'Nighthawks', 'Nighthawks', 'Dragoons', 'Dragoons', 'Dragoons', 'Dragoons', 'Scouts', 'Scouts', 'Scouts', 'Scouts'],\n",
        "        'company': ['1st', '1st', '2nd', '2nd', '1st', '1st', '2nd', '2nd','1st', '1st', '2nd', '2nd'],\n",
        "        'name': ['Miller', 'Jacobson', 'Ali', 'Milner', 'Cooze', 'Jacon', 'Ryaner', 'Sone', 'Sloan', 'Piger', 'Riani', 'Ali'],\n",
        "        'preTestScore': [4, 24, 31, 2, 3, 4, 24, 31, 2, 3, 2, 3],\n",
        "        'postTestScore': [25, 94, 57, 62, 70, 25, 94, 57, 62, 70, 62, 70]}"
      ]
    },
    {
      "cell_type": "markdown",
      "metadata": {
        "pycharm": {
          "name": "#%% md\n"
        },
        "id": "FQDt1w4b3Lxu"
      },
      "source": [
        "### Step 3. Assign it to a variable called regiment.\n",
        "#### Don't forget to name each column"
      ]
    },
    {
      "cell_type": "code",
      "execution_count": null,
      "metadata": {
        "pycharm": {
          "name": "#%%\n"
        },
        "id": "foJ8T_5E3Lxv",
        "colab": {
          "base_uri": "https://localhost:8080/"
        },
        "outputId": "fa06a82f-6666-4f35-d90c-ef763cccdfe4"
      },
      "outputs": [
        {
          "output_type": "stream",
          "name": "stdout",
          "text": [
            "      regiment company      name  preTestScore  postTestScore\n",
            "0   Nighthawks     1st    Miller             4             25\n",
            "1   Nighthawks     1st  Jacobson            24             94\n",
            "2   Nighthawks     2nd       Ali            31             57\n",
            "3   Nighthawks     2nd    Milner             2             62\n",
            "4     Dragoons     1st     Cooze             3             70\n",
            "5     Dragoons     1st     Jacon             4             25\n",
            "6     Dragoons     2nd    Ryaner            24             94\n",
            "7     Dragoons     2nd      Sone            31             57\n",
            "8       Scouts     1st     Sloan             2             62\n",
            "9       Scouts     1st     Piger             3             70\n",
            "10      Scouts     2nd     Riani             2             62\n",
            "11      Scouts     2nd       Ali             3             70\n"
          ]
        }
      ],
      "source": [
        "regiment = pd.DataFrame(raw_data, columns=['regiment', 'company', 'name', 'preTestScore', 'postTestScore'])\n",
        "print(regiment)"
      ]
    },
    {
      "cell_type": "markdown",
      "metadata": {
        "pycharm": {
          "name": "#%% md\n"
        },
        "id": "d1kNm64x3Lxv"
      },
      "source": [
        "### Step 4. What is the mean preTestScore from the regiment Nighthawks?  "
      ]
    },
    {
      "cell_type": "code",
      "execution_count": null,
      "metadata": {
        "pycharm": {
          "name": "#%%\n"
        },
        "id": "HZHJU2A73Lxw",
        "colab": {
          "base_uri": "https://localhost:8080/"
        },
        "outputId": "96eb1dda-d55a-472c-a3f7-0f643b13fc42"
      },
      "outputs": [
        {
          "output_type": "stream",
          "name": "stdout",
          "text": [
            "Mean preTestScore for Nighthawks: 15.25\n"
          ]
        }
      ],
      "source": [
        "nighthawks_mean_preTestScore = regiment[regiment['regiment'] == 'Nighthawks']['preTestScore'].mean()\n",
        "print(\"Mean preTestScore for Nighthawks:\", nighthawks_mean_preTestScore)"
      ]
    },
    {
      "cell_type": "markdown",
      "metadata": {
        "pycharm": {
          "name": "#%% md\n"
        },
        "id": "Fw_kNYL73Lxw"
      },
      "source": [
        "### Step 5. Present general statistics by company"
      ]
    },
    {
      "cell_type": "code",
      "execution_count": null,
      "metadata": {
        "pycharm": {
          "name": "#%%\n"
        },
        "id": "kHDnu9sT3Lxw",
        "colab": {
          "base_uri": "https://localhost:8080/"
        },
        "outputId": "fa6d4a1f-3997-4c5f-cc21-d588e6bb39a5"
      },
      "outputs": [
        {
          "output_type": "stream",
          "name": "stdout",
          "text": [
            "        preTestScore                                                      \\\n",
            "               count       mean        std  min   25%   50%    75%   max   \n",
            "company                                                                    \n",
            "1st              6.0   6.666667   8.524475  2.0  3.00   3.5   4.00  24.0   \n",
            "2nd              6.0  15.500000  14.652645  2.0  2.25  13.5  29.25  31.0   \n",
            "\n",
            "        postTestScore                                                       \n",
            "                count       mean        std   min    25%   50%   75%   max  \n",
            "company                                                                     \n",
            "1st               6.0  57.666667  27.485754  25.0  34.25  66.0  70.0  94.0  \n",
            "2nd               6.0  67.000000  14.057027  57.0  58.25  62.0  68.0  94.0  \n"
          ]
        }
      ],
      "source": [
        "company_statistics = regiment.groupby('company').describe()\n",
        "print(company_statistics)"
      ]
    },
    {
      "cell_type": "markdown",
      "metadata": {
        "pycharm": {
          "name": "#%% md\n"
        },
        "id": "ecu1Xzip3Lxx"
      },
      "source": [
        "### Step 6. What is the mean of each company's preTestScore?"
      ]
    },
    {
      "cell_type": "code",
      "execution_count": null,
      "metadata": {
        "pycharm": {
          "name": "#%%\n"
        },
        "id": "PsGgqIJM3Lxx",
        "colab": {
          "base_uri": "https://localhost:8080/"
        },
        "outputId": "8102c44d-0279-474b-fcb5-f206d06e8a99"
      },
      "outputs": [
        {
          "output_type": "stream",
          "name": "stdout",
          "text": [
            "Mean preTestScore for each company: company\n",
            "1st     6.666667\n",
            "2nd    15.500000\n",
            "Name: preTestScore, dtype: float64\n"
          ]
        }
      ],
      "source": [
        "company_mean_preTestScore = regiment.groupby('company')['preTestScore'].mean()\n",
        "print(\"Mean preTestScore for each company:\", company_mean_preTestScore)"
      ]
    },
    {
      "cell_type": "markdown",
      "metadata": {
        "pycharm": {
          "name": "#%% md\n"
        },
        "id": "ZXQ7yQTv3Lxx"
      },
      "source": [
        "### Step 7. Present the mean preTestScores grouped by regiment and company"
      ]
    },
    {
      "cell_type": "code",
      "execution_count": null,
      "metadata": {
        "pycharm": {
          "name": "#%%\n"
        },
        "id": "YrxAa5kh3Lxy",
        "colab": {
          "base_uri": "https://localhost:8080/"
        },
        "outputId": "86d9c480-0e9c-44b6-d2d1-61327fbb1cb9"
      },
      "outputs": [
        {
          "output_type": "stream",
          "name": "stdout",
          "text": [
            "Mean preTestScores grouped by regiment and company:      regiment company  preTestScore\n",
            "0    Dragoons     1st           3.5\n",
            "1    Dragoons     2nd          27.5\n",
            "2  Nighthawks     1st          14.0\n",
            "3  Nighthawks     2nd          16.5\n",
            "4      Scouts     1st           2.5\n",
            "5      Scouts     2nd           2.5\n"
          ]
        }
      ],
      "source": [
        "mean_preTestScore_by_regiment_company = regiment.groupby(['regiment', 'company'])['preTestScore'].mean().reset_index()\n",
        "print(\"Mean preTestScores grouped by regiment and company:\", mean_preTestScore_by_regiment_company)"
      ]
    },
    {
      "cell_type": "markdown",
      "metadata": {
        "pycharm": {
          "name": "#%% md\n"
        },
        "id": "Rx18kfiP3Lxy"
      },
      "source": [
        "### Step 8. Present the mean preTestScores grouped by regiment and company without heirarchical indexing"
      ]
    },
    {
      "cell_type": "code",
      "execution_count": null,
      "metadata": {
        "pycharm": {
          "name": "#%%\n"
        },
        "id": "gizZH9BX3Lxy",
        "colab": {
          "base_uri": "https://localhost:8080/"
        },
        "outputId": "7a002626-a236-41ab-f38a-9fb5042b7c78"
      },
      "outputs": [
        {
          "output_type": "stream",
          "name": "stdout",
          "text": [
            "Mean preTestScores grouped by regiment and company without hierarchical indexing: company    regiment   1st   2nd\n",
            "0          Dragoons   3.5  27.5\n",
            "1        Nighthawks  14.0  16.5\n",
            "2            Scouts   2.5   2.5\n"
          ]
        }
      ],
      "source": [
        "mean_preTestScore_by_regiment_company = regiment.pivot_table(index='regiment', columns='company', values='preTestScore', aggfunc='mean').reset_index()\n",
        "print(\"Mean preTestScores grouped by regiment and company without hierarchical indexing:\", mean_preTestScore_by_regiment_company)"
      ]
    },
    {
      "cell_type": "markdown",
      "metadata": {
        "pycharm": {
          "name": "#%% md\n"
        },
        "id": "_jaQOPfd3Lxy"
      },
      "source": [
        "### Step 9. Group the entire dataframe by regiment and company"
      ]
    },
    {
      "cell_type": "code",
      "execution_count": null,
      "metadata": {
        "pycharm": {
          "name": "#%%\n"
        },
        "id": "oAI5DDur3Lxz",
        "colab": {
          "base_uri": "https://localhost:8080/"
        },
        "outputId": "6cf9b076-abeb-4b4f-f155-7ff4ac6dfe04"
      },
      "outputs": [
        {
          "output_type": "stream",
          "name": "stdout",
          "text": [
            "Grouped DataFrame by regiment and company:      regiment company  preTestScore  postTestScore\n",
            "0    Dragoons     1st           3.5           47.5\n",
            "1    Dragoons     2nd          27.5           75.5\n",
            "2  Nighthawks     1st          14.0           59.5\n",
            "3  Nighthawks     2nd          16.5           59.5\n",
            "4      Scouts     1st           2.5           66.0\n",
            "5      Scouts     2nd           2.5           66.0\n"
          ]
        },
        {
          "output_type": "stream",
          "name": "stderr",
          "text": [
            "<ipython-input-18-822e6433b632>:1: FutureWarning: The default value of numeric_only in DataFrameGroupBy.mean is deprecated. In a future version, numeric_only will default to False. Either specify numeric_only or select only columns which should be valid for the function.\n",
            "  grouped_data = regiment.groupby(['regiment', 'company']).mean().reset_index()\n"
          ]
        }
      ],
      "source": [
        "grouped_data = regiment.groupby(['regiment', 'company']).mean().reset_index()\n",
        "print(\"Grouped DataFrame by regiment and company:\", grouped_data)"
      ]
    },
    {
      "cell_type": "markdown",
      "metadata": {
        "pycharm": {
          "name": "#%% md\n"
        },
        "id": "veFquPW43Lxz"
      },
      "source": [
        "### Step 10. What is the number of observations in each regiment and company"
      ]
    },
    {
      "cell_type": "code",
      "execution_count": null,
      "metadata": {
        "pycharm": {
          "name": "#%%\n"
        },
        "id": "WsYpqzzh3Lxz",
        "colab": {
          "base_uri": "https://localhost:8080/"
        },
        "outputId": "11a24ec9-3bb6-40d5-b5e4-3a4e0c5be2f9"
      },
      "outputs": [
        {
          "output_type": "stream",
          "name": "stdout",
          "text": [
            "Number of observations in each regiment and company:      regiment company  observations_count\n",
            "0    Dragoons     1st                   2\n",
            "1    Dragoons     2nd                   2\n",
            "2  Nighthawks     1st                   2\n",
            "3  Nighthawks     2nd                   2\n",
            "4      Scouts     1st                   2\n",
            "5      Scouts     2nd                   2\n"
          ]
        }
      ],
      "source": [
        "observations_count = regiment.groupby(['regiment', 'company']).size().reset_index(name='observations_count')\n",
        "print(\"Number of observations in each regiment and company:\", observations_count)"
      ]
    },
    {
      "cell_type": "markdown",
      "metadata": {
        "pycharm": {
          "name": "#%% md\n"
        },
        "id": "8IkZR3w_3Lx0"
      },
      "source": [
        "### Step 11. Iterate over a group and print the name and the whole data from the regiment"
      ]
    },
    {
      "cell_type": "code",
      "execution_count": null,
      "metadata": {
        "pycharm": {
          "name": "#%%\n"
        },
        "id": "Ku1NhX4p3Lx0",
        "colab": {
          "base_uri": "https://localhost:8080/"
        },
        "outputId": "ce6a1ee3-19a8-4a6d-da31-01022b76e42a"
      },
      "outputs": [
        {
          "output_type": "stream",
          "name": "stdout",
          "text": [
            "Regiment: Dragoons\n",
            "   regiment company    name  preTestScore  postTestScore\n",
            "4  Dragoons     1st   Cooze             3             70\n",
            "5  Dragoons     1st   Jacon             4             25\n",
            "6  Dragoons     2nd  Ryaner            24             94\n",
            "7  Dragoons     2nd    Sone            31             57\n",
            "\n",
            "\n",
            "Regiment: Nighthawks\n",
            "     regiment company      name  preTestScore  postTestScore\n",
            "0  Nighthawks     1st    Miller             4             25\n",
            "1  Nighthawks     1st  Jacobson            24             94\n",
            "2  Nighthawks     2nd       Ali            31             57\n",
            "3  Nighthawks     2nd    Milner             2             62\n",
            "\n",
            "\n",
            "Regiment: Scouts\n",
            "   regiment company   name  preTestScore  postTestScore\n",
            "8    Scouts     1st  Sloan             2             62\n",
            "9    Scouts     1st  Piger             3             70\n",
            "10   Scouts     2nd  Riani             2             62\n",
            "11   Scouts     2nd    Ali             3             70\n",
            "\n",
            "\n"
          ]
        }
      ],
      "source": [
        "for name, group_data in regiment.groupby('regiment'):\n",
        "    print(f\"Regiment: {name}\")\n",
        "    print(group_data)\n",
        "    print(\"\\n\")\n"
      ]
    }
  ],
  "metadata": {
    "kernelspec": {
      "display_name": "Python 2",
      "language": "python",
      "name": "python2"
    },
    "language_info": {
      "codemirror_mode": {
        "name": "ipython",
        "version": 2
      },
      "file_extension": ".py",
      "mimetype": "text/x-python",
      "name": "python",
      "nbconvert_exporter": "python",
      "pygments_lexer": "ipython2",
      "version": "2.7.11"
    },
    "colab": {
      "provenance": [],
      "include_colab_link": true
    }
  },
  "nbformat": 4,
  "nbformat_minor": 0
}